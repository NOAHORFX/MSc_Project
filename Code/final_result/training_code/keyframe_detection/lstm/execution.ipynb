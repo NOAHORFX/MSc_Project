{
 "cells": [
  {
   "cell_type": "code",
   "execution_count": 1,
   "id": "967e6cef-81d4-4c0f-8bf5-335e2cb4f2d3",
   "metadata": {},
   "outputs": [
    {
     "name": "stderr",
     "output_type": "stream",
     "text": [
      "2025-08-14 02:17:04.601561: I tensorflow/core/util/port.cc:110] oneDNN custom operations are on. You may see slightly different numerical results due to floating-point round-off errors from different computation orders. To turn them off, set the environment variable `TF_ENABLE_ONEDNN_OPTS=0`.\n",
      "2025-08-14 02:17:04.632862: I tensorflow/core/platform/cpu_feature_guard.cc:182] This TensorFlow binary is optimized to use available CPU instructions in performance-critical operations.\n",
      "To enable the following instructions: AVX2 AVX512F AVX512_VNNI AVX512_BF16 FMA, in other operations, rebuild TensorFlow with the appropriate compiler flags.\n",
      "2025-08-14 02:17:05.273892: W tensorflow/compiler/tf2tensorrt/utils/py_utils.cc:38] TF-TRT Warning: Could not find TensorRT\n",
      "2025-08-14 02:17:06.172155: I tensorflow/compiler/xla/stream_executor/cuda/cuda_gpu_executor.cc:995] successful NUMA node read from SysFS had negative value (-1), but there must be at least one NUMA node, so returning NUMA node zero. See more at https://github.com/torvalds/linux/blob/v6.0/Documentation/ABI/testing/sysfs-bus-pci#L344-L355\n",
      "2025-08-14 02:17:06.176089: I tensorflow/compiler/xla/stream_executor/cuda/cuda_gpu_executor.cc:995] successful NUMA node read from SysFS had negative value (-1), but there must be at least one NUMA node, so returning NUMA node zero. See more at https://github.com/torvalds/linux/blob/v6.0/Documentation/ABI/testing/sysfs-bus-pci#L344-L355\n",
      "2025-08-14 02:17:06.176234: I tensorflow/compiler/xla/stream_executor/cuda/cuda_gpu_executor.cc:995] successful NUMA node read from SysFS had negative value (-1), but there must be at least one NUMA node, so returning NUMA node zero. See more at https://github.com/torvalds/linux/blob/v6.0/Documentation/ABI/testing/sysfs-bus-pci#L344-L355\n",
      "2025-08-14 02:17:06.177262: I tensorflow/compiler/xla/stream_executor/cuda/cuda_gpu_executor.cc:995] successful NUMA node read from SysFS had negative value (-1), but there must be at least one NUMA node, so returning NUMA node zero. See more at https://github.com/torvalds/linux/blob/v6.0/Documentation/ABI/testing/sysfs-bus-pci#L344-L355\n",
      "2025-08-14 02:17:06.177395: I tensorflow/compiler/xla/stream_executor/cuda/cuda_gpu_executor.cc:995] successful NUMA node read from SysFS had negative value (-1), but there must be at least one NUMA node, so returning NUMA node zero. See more at https://github.com/torvalds/linux/blob/v6.0/Documentation/ABI/testing/sysfs-bus-pci#L344-L355\n",
      "2025-08-14 02:17:06.177510: I tensorflow/compiler/xla/stream_executor/cuda/cuda_gpu_executor.cc:995] successful NUMA node read from SysFS had negative value (-1), but there must be at least one NUMA node, so returning NUMA node zero. See more at https://github.com/torvalds/linux/blob/v6.0/Documentation/ABI/testing/sysfs-bus-pci#L344-L355\n",
      "2025-08-14 02:17:06.558348: I tensorflow/compiler/xla/stream_executor/cuda/cuda_gpu_executor.cc:995] successful NUMA node read from SysFS had negative value (-1), but there must be at least one NUMA node, so returning NUMA node zero. See more at https://github.com/torvalds/linux/blob/v6.0/Documentation/ABI/testing/sysfs-bus-pci#L344-L355\n",
      "2025-08-14 02:17:06.558536: I tensorflow/compiler/xla/stream_executor/cuda/cuda_gpu_executor.cc:995] successful NUMA node read from SysFS had negative value (-1), but there must be at least one NUMA node, so returning NUMA node zero. See more at https://github.com/torvalds/linux/blob/v6.0/Documentation/ABI/testing/sysfs-bus-pci#L344-L355\n",
      "2025-08-14 02:17:06.558651: I tensorflow/compiler/xla/stream_executor/cuda/cuda_gpu_executor.cc:995] successful NUMA node read from SysFS had negative value (-1), but there must be at least one NUMA node, so returning NUMA node zero. See more at https://github.com/torvalds/linux/blob/v6.0/Documentation/ABI/testing/sysfs-bus-pci#L344-L355\n",
      "2025-08-14 02:17:06.558753: W tensorflow/core/common_runtime/gpu/gpu_bfc_allocator.cc:47] Overriding orig_value setting because the TF_FORCE_GPU_ALLOW_GROWTH environment variable is set. Original config value was 0.\n",
      "2025-08-14 02:17:06.558776: I tensorflow/core/common_runtime/gpu/gpu_device.cc:1639] Created device /job:localhost/replica:0/task:0/device:GPU:0 with 22108 MB memory:  -> device: 0, name: NVIDIA GeForce RTX 4090, pci bus id: 0000:10:00.0, compute capability: 8.9\n"
     ]
    },
    {
     "name": "stdout",
     "output_type": "stream",
     "text": [
      "[INFO] Starting training...\n",
      "[Callback] sim_weight updated to: 0.0000\n",
      "Epoch 1/30\n"
     ]
    },
    {
     "name": "stderr",
     "output_type": "stream",
     "text": [
      "2025-08-14 02:17:15.276223: I tensorflow/compiler/xla/stream_executor/cuda/cuda_dnn.cc:432] Loaded cuDNN version 8600\n",
      "Could not load symbol cublasGetSmCountTarget from libcublas.so.11. Error: /usr/local/cuda-11.2/targets/x86_64-linux/lib/libcublas.so.11: undefined symbol: cublasGetSmCountTarget\n",
      "2025-08-14 02:17:15.517233: I tensorflow/compiler/xla/stream_executor/cuda/cuda_blas.cc:606] TensorFloat-32 will be used for the matrix multiplication. This will only be logged once.\n",
      "2025-08-14 02:17:15.520184: I tensorflow/compiler/xla/service/service.cc:168] XLA service 0x7fe358010cf0 initialized for platform CUDA (this does not guarantee that XLA will be used). Devices:\n",
      "2025-08-14 02:17:15.520232: I tensorflow/compiler/xla/service/service.cc:176]   StreamExecutor device (0): NVIDIA GeForce RTX 4090, Compute Capability 8.9\n",
      "2025-08-14 02:17:15.527827: I tensorflow/compiler/mlir/tensorflow/utils/dump_mlir_util.cc:255] disabling MLIR crash reproducer, set env var `MLIR_CRASH_REPRODUCER_DIRECTORY` to enable.\n",
      "2025-08-14 02:17:15.719241: I ./tensorflow/compiler/jit/device_compiler.h:186] Compiled cluster using XLA!  This line is logged at most once for the lifetime of the process.\n"
     ]
    },
    {
     "name": "stdout",
     "output_type": "stream",
     "text": [
      "     90/Unknown - 16s 77ms/step - loss: 0.0335 - mae: 0.1302"
     ]
    },
    {
     "name": "stderr",
     "output_type": "stream",
     "text": [
      "2025-08-14 02:17:23.383278: I tensorflow/core/framework/local_rendezvous.cc:405] Local rendezvous recv item cancelled. Key hash: 13596510050586046572\n",
      "2025-08-14 02:17:23.383369: I tensorflow/core/framework/local_rendezvous.cc:405] Local rendezvous recv item cancelled. Key hash: 1149040298988466978\n",
      "2025-08-14 02:17:23.383386: I tensorflow/core/framework/local_rendezvous.cc:405] Local rendezvous recv item cancelled. Key hash: 7520558780196811225\n",
      "2025-08-14 02:17:23.383477: I tensorflow/core/framework/local_rendezvous.cc:405] Local rendezvous recv item cancelled. Key hash: 12538618031382386172\n",
      "2025-08-14 02:17:23.383494: I tensorflow/core/framework/local_rendezvous.cc:405] Local rendezvous recv item cancelled. Key hash: 9712971612436935998\n"
     ]
    },
    {
     "name": "stdout",
     "output_type": "stream",
     "text": [
      "\n",
      "Epoch 1: val_loss improved from inf to 0.02704, saving model to best_sequence_model_v1.h5\n"
     ]
    },
    {
     "name": "stderr",
     "output_type": "stream",
     "text": [
      "2025-08-14 02:17:27.020851: I tensorflow/core/framework/local_rendezvous.cc:405] Local rendezvous recv item cancelled. Key hash: 15522265773770074279\n",
      "2025-08-14 02:17:27.020903: I tensorflow/core/framework/local_rendezvous.cc:405] Local rendezvous recv item cancelled. Key hash: 3212921181425619271\n",
      "2025-08-14 02:17:27.020913: I tensorflow/core/framework/local_rendezvous.cc:405] Local rendezvous recv item cancelled. Key hash: 15171200940259791549\n",
      "2025-08-14 02:17:27.020920: I tensorflow/core/framework/local_rendezvous.cc:405] Local rendezvous recv item cancelled. Key hash: 7072368833208808633\n",
      "2025-08-14 02:17:27.020927: I tensorflow/core/framework/local_rendezvous.cc:405] Local rendezvous recv item cancelled. Key hash: 16340174345649720859\n",
      "2025-08-14 02:17:27.020936: I tensorflow/core/framework/local_rendezvous.cc:405] Local rendezvous recv item cancelled. Key hash: 1125573880603117738\n",
      "2025-08-14 02:17:27.020941: I tensorflow/core/framework/local_rendezvous.cc:405] Local rendezvous recv item cancelled. Key hash: 18040781836569157904\n",
      "2025-08-14 02:17:27.020960: I tensorflow/core/framework/local_rendezvous.cc:405] Local rendezvous recv item cancelled. Key hash: 11917487870838279184\n",
      "2025-08-14 02:17:27.020966: I tensorflow/core/framework/local_rendezvous.cc:405] Local rendezvous recv item cancelled. Key hash: 8221912293218899008\n",
      "/environment/miniconda3/lib/python3.10/site-packages/keras/src/engine/training.py:3000: UserWarning: You are saving your model as an HDF5 file via `model.save()`. This file format is considered legacy. We recommend using instead the native Keras format, e.g. `model.save('my_model.keras')`.\n",
      "  saving_api.save_model(\n"
     ]
    },
    {
     "name": "stdout",
     "output_type": "stream",
     "text": [
      "90/90 [==============================] - 20s 121ms/step - loss: 0.0335 - mae: 0.1302 - val_loss: 0.0270 - val_mae: 0.1095 - lr: 0.0010\n",
      "[Callback] sim_weight updated to: 0.0067\n",
      "Epoch 2/30\n",
      "90/90 [==============================] - ETA: 0s - loss: 0.0274 - mae: 0.1179\n",
      "Epoch 2: val_loss improved from 0.02704 to 0.02539, saving model to best_sequence_model_v1.h5\n"
     ]
    },
    {
     "name": "stderr",
     "output_type": "stream",
     "text": [
      "/environment/miniconda3/lib/python3.10/site-packages/keras/src/engine/training.py:3000: UserWarning: You are saving your model as an HDF5 file via `model.save()`. This file format is considered legacy. We recommend using instead the native Keras format, e.g. `model.save('my_model.keras')`.\n",
      "  saving_api.save_model(\n"
     ]
    },
    {
     "name": "stdout",
     "output_type": "stream",
     "text": [
      "90/90 [==============================] - 10s 105ms/step - loss: 0.0274 - mae: 0.1179 - val_loss: 0.0254 - val_mae: 0.1106 - lr: 0.0010\n",
      "[Callback] sim_weight updated to: 0.0133\n",
      "Epoch 3/30\n",
      "90/90 [==============================] - ETA: 0s - loss: 0.0268 - mae: 0.1146\n",
      "Epoch 3: val_loss did not improve from 0.02539\n",
      "90/90 [==============================] - 10s 103ms/step - loss: 0.0268 - mae: 0.1146 - val_loss: 0.0254 - val_mae: 0.1136 - lr: 0.0010\n",
      "[Callback] sim_weight updated to: 0.0200\n",
      "Epoch 4/30\n",
      "90/90 [==============================] - ETA: 0s - loss: 0.0269 - mae: 0.1128\n",
      "Epoch 4: val_loss improved from 0.02539 to 0.02369, saving model to best_sequence_model_v1.h5\n"
     ]
    },
    {
     "name": "stderr",
     "output_type": "stream",
     "text": [
      "/environment/miniconda3/lib/python3.10/site-packages/keras/src/engine/training.py:3000: UserWarning: You are saving your model as an HDF5 file via `model.save()`. This file format is considered legacy. We recommend using instead the native Keras format, e.g. `model.save('my_model.keras')`.\n",
      "  saving_api.save_model(\n"
     ]
    },
    {
     "name": "stdout",
     "output_type": "stream",
     "text": [
      "90/90 [==============================] - 11s 112ms/step - loss: 0.0269 - mae: 0.1128 - val_loss: 0.0237 - val_mae: 0.1003 - lr: 0.0010\n",
      "[Callback] sim_weight updated to: 0.0267\n",
      "Epoch 5/30\n",
      "90/90 [==============================] - ETA: 0s - loss: 0.0231 - mae: 0.0984\n",
      "Epoch 5: val_loss improved from 0.02369 to 0.02259, saving model to best_sequence_model_v1.h5\n"
     ]
    },
    {
     "name": "stderr",
     "output_type": "stream",
     "text": [
      "/environment/miniconda3/lib/python3.10/site-packages/keras/src/engine/training.py:3000: UserWarning: You are saving your model as an HDF5 file via `model.save()`. This file format is considered legacy. We recommend using instead the native Keras format, e.g. `model.save('my_model.keras')`.\n",
      "  saving_api.save_model(\n"
     ]
    },
    {
     "name": "stdout",
     "output_type": "stream",
     "text": [
      "90/90 [==============================] - 11s 113ms/step - loss: 0.0231 - mae: 0.0984 - val_loss: 0.0226 - val_mae: 0.0739 - lr: 0.0010\n",
      "[Callback] sim_weight updated to: 0.0333\n",
      "Epoch 6/30\n",
      "90/90 [==============================] - ETA: 0s - loss: 0.0241 - mae: 0.0995\n",
      "Epoch 6: val_loss did not improve from 0.02259\n",
      "90/90 [==============================] - 10s 104ms/step - loss: 0.0241 - mae: 0.0995 - val_loss: 0.0263 - val_mae: 0.1316 - lr: 0.0010\n",
      "[Callback] sim_weight updated to: 0.0400\n",
      "Epoch 7/30\n",
      "90/90 [==============================] - ETA: 0s - loss: 0.0226 - mae: 0.0938\n",
      "Epoch 7: val_loss did not improve from 0.02259\n",
      "90/90 [==============================] - 10s 105ms/step - loss: 0.0226 - mae: 0.0938 - val_loss: 0.0286 - val_mae: 0.1250 - lr: 0.0010\n",
      "[Callback] sim_weight updated to: 0.0467\n",
      "Epoch 8/30\n",
      "90/90 [==============================] - ETA: 0s - loss: 0.0233 - mae: 0.0993\n",
      "Epoch 8: val_loss improved from 0.02259 to 0.02133, saving model to best_sequence_model_v1.h5\n",
      "90/90 [==============================] - 10s 102ms/step - loss: 0.0233 - mae: 0.0993 - val_loss: 0.0213 - val_mae: 0.0812 - lr: 0.0010\n"
     ]
    },
    {
     "name": "stderr",
     "output_type": "stream",
     "text": [
      "/environment/miniconda3/lib/python3.10/site-packages/keras/src/engine/training.py:3000: UserWarning: You are saving your model as an HDF5 file via `model.save()`. This file format is considered legacy. We recommend using instead the native Keras format, e.g. `model.save('my_model.keras')`.\n",
      "  saving_api.save_model(\n"
     ]
    },
    {
     "name": "stdout",
     "output_type": "stream",
     "text": [
      "[Callback] sim_weight updated to: 0.0533\n",
      "Epoch 9/30\n",
      "90/90 [==============================] - ETA: 0s - loss: 0.0212 - mae: 0.0887\n",
      "Epoch 9: val_loss did not improve from 0.02133\n",
      "90/90 [==============================] - 10s 104ms/step - loss: 0.0212 - mae: 0.0887 - val_loss: 0.0225 - val_mae: 0.0938 - lr: 0.0010\n",
      "[Callback] sim_weight updated to: 0.0600\n",
      "Epoch 10/30\n",
      "90/90 [==============================] - ETA: 0s - loss: 0.0220 - mae: 0.0931\n",
      "Epoch 10: val_loss improved from 0.02133 to 0.02102, saving model to best_sequence_model_v1.h5\n",
      "90/90 [==============================] - 10s 100ms/step - loss: 0.0220 - mae: 0.0931 - val_loss: 0.0210 - val_mae: 0.1131 - lr: 0.0010\n",
      "[Callback] sim_weight updated to: 0.0667\n",
      "Epoch 11/30\n"
     ]
    },
    {
     "name": "stderr",
     "output_type": "stream",
     "text": [
      "/environment/miniconda3/lib/python3.10/site-packages/keras/src/engine/training.py:3000: UserWarning: You are saving your model as an HDF5 file via `model.save()`. This file format is considered legacy. We recommend using instead the native Keras format, e.g. `model.save('my_model.keras')`.\n",
      "  saving_api.save_model(\n"
     ]
    },
    {
     "name": "stdout",
     "output_type": "stream",
     "text": [
      "90/90 [==============================] - ETA: 0s - loss: 0.0205 - mae: 0.0862\n",
      "Epoch 11: val_loss improved from 0.02102 to 0.01718, saving model to best_sequence_model_v1.h5\n"
     ]
    },
    {
     "name": "stderr",
     "output_type": "stream",
     "text": [
      "/environment/miniconda3/lib/python3.10/site-packages/keras/src/engine/training.py:3000: UserWarning: You are saving your model as an HDF5 file via `model.save()`. This file format is considered legacy. We recommend using instead the native Keras format, e.g. `model.save('my_model.keras')`.\n",
      "  saving_api.save_model(\n"
     ]
    },
    {
     "name": "stdout",
     "output_type": "stream",
     "text": [
      "90/90 [==============================] - 10s 103ms/step - loss: 0.0205 - mae: 0.0862 - val_loss: 0.0172 - val_mae: 0.0747 - lr: 0.0010\n",
      "[Callback] sim_weight updated to: 0.0733\n",
      "Epoch 12/30\n",
      "90/90 [==============================] - ETA: 0s - loss: 0.0207 - mae: 0.0849\n",
      "Epoch 12: val_loss did not improve from 0.01718\n",
      "90/90 [==============================] - 10s 103ms/step - loss: 0.0207 - mae: 0.0849 - val_loss: 0.0248 - val_mae: 0.0974 - lr: 0.0010\n",
      "[Callback] sim_weight updated to: 0.0800\n",
      "Epoch 13/30\n",
      "90/90 [==============================] - ETA: 0s - loss: 0.0209 - mae: 0.0872\n",
      "Epoch 13: val_loss did not improve from 0.01718\n",
      "90/90 [==============================] - 9s 95ms/step - loss: 0.0209 - mae: 0.0872 - val_loss: 0.0235 - val_mae: 0.0839 - lr: 0.0010\n",
      "[Callback] sim_weight updated to: 0.0867\n",
      "Epoch 14/30\n",
      "90/90 [==============================] - ETA: 0s - loss: 0.0195 - mae: 0.0861\n",
      "Epoch 14: val_loss did not improve from 0.01718\n",
      "\n",
      "Epoch 14: ReduceLROnPlateau reducing learning rate to 0.0005000000237487257.\n",
      "90/90 [==============================] - 9s 92ms/step - loss: 0.0195 - mae: 0.0861 - val_loss: 0.0207 - val_mae: 0.0850 - lr: 0.0010\n",
      "[Callback] sim_weight updated to: 0.0933\n",
      "Epoch 15/30\n",
      "90/90 [==============================] - ETA: 0s - loss: 0.0184 - mae: 0.0768\n",
      "Epoch 15: val_loss did not improve from 0.01718\n",
      "90/90 [==============================] - 8s 90ms/step - loss: 0.0184 - mae: 0.0768 - val_loss: 0.0180 - val_mae: 0.0676 - lr: 5.0000e-04\n",
      "[Callback] sim_weight updated to: 0.1000\n",
      "Epoch 16/30\n",
      "90/90 [==============================] - ETA: 0s - loss: 0.0166 - mae: 0.0696\n",
      "Epoch 16: val_loss improved from 0.01718 to 0.01675, saving model to best_sequence_model_v1.h5\n",
      "90/90 [==============================] - 9s 97ms/step - loss: 0.0166 - mae: 0.0696 - val_loss: 0.0167 - val_mae: 0.0806 - lr: 5.0000e-04\n",
      "[Callback] sim_weight updated to: 0.1067\n",
      "Epoch 17/30\n"
     ]
    },
    {
     "name": "stderr",
     "output_type": "stream",
     "text": [
      "/environment/miniconda3/lib/python3.10/site-packages/keras/src/engine/training.py:3000: UserWarning: You are saving your model as an HDF5 file via `model.save()`. This file format is considered legacy. We recommend using instead the native Keras format, e.g. `model.save('my_model.keras')`.\n",
      "  saving_api.save_model(\n"
     ]
    },
    {
     "name": "stdout",
     "output_type": "stream",
     "text": [
      "90/90 [==============================] - ETA: 0s - loss: 0.0184 - mae: 0.0776\n",
      "Epoch 17: val_loss did not improve from 0.01675\n",
      "90/90 [==============================] - 9s 93ms/step - loss: 0.0184 - mae: 0.0776 - val_loss: 0.0170 - val_mae: 0.0679 - lr: 5.0000e-04\n",
      "[Callback] sim_weight updated to: 0.1133\n",
      "Epoch 18/30\n",
      "90/90 [==============================] - ETA: 0s - loss: 0.0174 - mae: 0.0714\n",
      "Epoch 18: val_loss did not improve from 0.01675\n",
      "90/90 [==============================] - 9s 91ms/step - loss: 0.0174 - mae: 0.0714 - val_loss: 0.0213 - val_mae: 0.0874 - lr: 5.0000e-04\n",
      "[Callback] sim_weight updated to: 0.1200\n",
      "Epoch 19/30\n",
      "90/90 [==============================] - ETA: 0s - loss: 0.0170 - mae: 0.0720\n",
      "Epoch 19: val_loss improved from 0.01675 to 0.01592, saving model to best_sequence_model_v1.h5\n",
      "90/90 [==============================] - 9s 99ms/step - loss: 0.0170 - mae: 0.0720 - val_loss: 0.0159 - val_mae: 0.0659 - lr: 5.0000e-04\n",
      "[Callback] sim_weight updated to: 0.1267\n",
      "Epoch 20/30\n"
     ]
    },
    {
     "name": "stderr",
     "output_type": "stream",
     "text": [
      "/environment/miniconda3/lib/python3.10/site-packages/keras/src/engine/training.py:3000: UserWarning: You are saving your model as an HDF5 file via `model.save()`. This file format is considered legacy. We recommend using instead the native Keras format, e.g. `model.save('my_model.keras')`.\n",
      "  saving_api.save_model(\n"
     ]
    },
    {
     "name": "stdout",
     "output_type": "stream",
     "text": [
      "89/90 [============================>.] - ETA: 0s - loss: 0.0168 - mae: 0.0709\n",
      "Epoch 20: val_loss did not improve from 0.01592\n",
      "90/90 [==============================] - 9s 99ms/step - loss: 0.0167 - mae: 0.0707 - val_loss: 0.0197 - val_mae: 0.0872 - lr: 5.0000e-04\n",
      "[Callback] sim_weight updated to: 0.1333\n",
      "Epoch 21/30\n",
      "90/90 [==============================] - ETA: 0s - loss: 0.0155 - mae: 0.0667\n",
      "Epoch 21: val_loss improved from 0.01592 to 0.01581, saving model to best_sequence_model_v1.h5\n",
      "90/90 [==============================] - 9s 95ms/step - loss: 0.0155 - mae: 0.0667 - val_loss: 0.0158 - val_mae: 0.0639 - lr: 5.0000e-04\n",
      "[Callback] sim_weight updated to: 0.1400\n",
      "Epoch 22/30\n"
     ]
    },
    {
     "name": "stderr",
     "output_type": "stream",
     "text": [
      "/environment/miniconda3/lib/python3.10/site-packages/keras/src/engine/training.py:3000: UserWarning: You are saving your model as an HDF5 file via `model.save()`. This file format is considered legacy. We recommend using instead the native Keras format, e.g. `model.save('my_model.keras')`.\n",
      "  saving_api.save_model(\n"
     ]
    },
    {
     "name": "stdout",
     "output_type": "stream",
     "text": [
      "90/90 [==============================] - ETA: 0s - loss: 0.0153 - mae: 0.0652\n",
      "Epoch 22: val_loss improved from 0.01581 to 0.01538, saving model to best_sequence_model_v1.h5\n"
     ]
    },
    {
     "name": "stderr",
     "output_type": "stream",
     "text": [
      "/environment/miniconda3/lib/python3.10/site-packages/keras/src/engine/training.py:3000: UserWarning: You are saving your model as an HDF5 file via `model.save()`. This file format is considered legacy. We recommend using instead the native Keras format, e.g. `model.save('my_model.keras')`.\n",
      "  saving_api.save_model(\n"
     ]
    },
    {
     "name": "stdout",
     "output_type": "stream",
     "text": [
      "90/90 [==============================] - 9s 96ms/step - loss: 0.0153 - mae: 0.0652 - val_loss: 0.0154 - val_mae: 0.0681 - lr: 5.0000e-04\n",
      "[Callback] sim_weight updated to: 0.1467\n",
      "Epoch 23/30\n",
      "90/90 [==============================] - ETA: 0s - loss: 0.0155 - mae: 0.0665\n",
      "Epoch 23: val_loss did not improve from 0.01538\n",
      "90/90 [==============================] - 9s 93ms/step - loss: 0.0155 - mae: 0.0665 - val_loss: 0.0159 - val_mae: 0.0803 - lr: 5.0000e-04\n",
      "[Callback] sim_weight updated to: 0.1533\n",
      "Epoch 24/30\n",
      "90/90 [==============================] - ETA: 0s - loss: 0.0176 - mae: 0.0737\n",
      "Epoch 24: val_loss did not improve from 0.01538\n",
      "90/90 [==============================] - 9s 98ms/step - loss: 0.0176 - mae: 0.0737 - val_loss: 0.0155 - val_mae: 0.0597 - lr: 5.0000e-04\n",
      "[Callback] sim_weight updated to: 0.1600\n",
      "Epoch 25/30\n",
      "90/90 [==============================] - ETA: 0s - loss: 0.0151 - mae: 0.0641\n",
      "Epoch 25: val_loss improved from 0.01538 to 0.01518, saving model to best_sequence_model_v1.h5\n",
      "90/90 [==============================] - 9s 100ms/step - loss: 0.0151 - mae: 0.0641 - val_loss: 0.0152 - val_mae: 0.0598 - lr: 5.0000e-04\n",
      "[Callback] sim_weight updated to: 0.1667\n",
      "Epoch 26/30\n"
     ]
    },
    {
     "name": "stderr",
     "output_type": "stream",
     "text": [
      "/environment/miniconda3/lib/python3.10/site-packages/keras/src/engine/training.py:3000: UserWarning: You are saving your model as an HDF5 file via `model.save()`. This file format is considered legacy. We recommend using instead the native Keras format, e.g. `model.save('my_model.keras')`.\n",
      "  saving_api.save_model(\n"
     ]
    },
    {
     "name": "stdout",
     "output_type": "stream",
     "text": [
      "90/90 [==============================] - ETA: 0s - loss: 0.0150 - mae: 0.0647\n",
      "Epoch 26: val_loss improved from 0.01518 to 0.01484, saving model to best_sequence_model_v1.h5\n"
     ]
    },
    {
     "name": "stderr",
     "output_type": "stream",
     "text": [
      "/environment/miniconda3/lib/python3.10/site-packages/keras/src/engine/training.py:3000: UserWarning: You are saving your model as an HDF5 file via `model.save()`. This file format is considered legacy. We recommend using instead the native Keras format, e.g. `model.save('my_model.keras')`.\n",
      "  saving_api.save_model(\n"
     ]
    },
    {
     "name": "stdout",
     "output_type": "stream",
     "text": [
      "90/90 [==============================] - 10s 100ms/step - loss: 0.0150 - mae: 0.0647 - val_loss: 0.0148 - val_mae: 0.0661 - lr: 5.0000e-04\n",
      "[Callback] sim_weight updated to: 0.1733\n",
      "Epoch 27/30\n",
      "90/90 [==============================] - ETA: 0s - loss: 0.0157 - mae: 0.0677\n",
      "Epoch 27: val_loss did not improve from 0.01484\n",
      "90/90 [==============================] - 9s 94ms/step - loss: 0.0157 - mae: 0.0677 - val_loss: 0.0153 - val_mae: 0.0628 - lr: 5.0000e-04\n",
      "[Callback] sim_weight updated to: 0.1800\n",
      "Epoch 28/30\n",
      "90/90 [==============================] - ETA: 0s - loss: 0.0156 - mae: 0.0660\n",
      "Epoch 28: val_loss did not improve from 0.01484\n",
      "90/90 [==============================] - 9s 93ms/step - loss: 0.0156 - mae: 0.0660 - val_loss: 0.0156 - val_mae: 0.0594 - lr: 5.0000e-04\n",
      "[Callback] sim_weight updated to: 0.1867\n",
      "Epoch 29/30\n",
      "89/90 [============================>.] - ETA: 0s - loss: 0.0148 - mae: 0.0635\n",
      "Epoch 29: val_loss did not improve from 0.01484\n",
      "\n",
      "Epoch 29: ReduceLROnPlateau reducing learning rate to 0.0002500000118743628.\n",
      "90/90 [==============================] - 9s 99ms/step - loss: 0.0147 - mae: 0.0632 - val_loss: 0.0155 - val_mae: 0.0569 - lr: 5.0000e-04\n",
      "[Callback] sim_weight updated to: 0.1933\n",
      "Epoch 30/30\n",
      "90/90 [==============================] - ETA: 0s - loss: 0.0148 - mae: 0.0630\n",
      "Epoch 30: val_loss did not improve from 0.01484\n",
      "90/90 [==============================] - 9s 92ms/step - loss: 0.0148 - mae: 0.0630 - val_loss: 0.0155 - val_mae: 0.0655 - lr: 2.5000e-04\n",
      "[INFO] Best model saved to: best_sequence_model_v1.h5\n"
     ]
    }
   ],
   "source": [
    "from sequence_trainer_tf import train_sequence_model\n",
    "model, val_files = train_sequence_model(\n",
    "    feature_dir=\"/home/featurize/data/features_segmodel\",\n",
    "    input_shape=(115, 6144),\n",
    "    batch_size=16,\n",
    "    epochs=30,\n",
    "    model_save_path=\"best_sequence_model_v1.h5\"\n",
    ")"
   ]
  },
  {
   "cell_type": "code",
   "execution_count": 2,
   "id": "d5c82615-deca-45d5-a72e-2b0b3d5659c6",
   "metadata": {},
   "outputs": [
    {
     "name": "stdout",
     "output_type": "stream",
     "text": [
      "/home/featurize/data/features_segmodel/ca3db03c-02f8-4648-a0d0-5cf5cae8dbbf/sweep_2/features.npy\n"
     ]
    }
   ],
   "source": [
    "import random\n",
    "from evaluate_prediction_tf import evaluate_and_visualize_predictions\n",
    "\n",
    "print(random.choice(val_files))"
   ]
  },
  {
   "cell_type": "code",
   "execution_count": 3,
   "id": "bb851cf1-1f47-4172-87f1-26dac1ae73fb",
   "metadata": {},
   "outputs": [
    {
     "name": "stdout",
     "output_type": "stream",
     "text": [
      "1/1 [==============================] - 1s 1s/step\n",
      "Prediction std: 0.2448\n",
      "Detected 1 relative peaks\n",
      "Predicted key frames: [43, 42, 44]\n",
      "Scores: [0.83544993, 0.82921976, 0.8280105]\n"
     ]
    },
    {
     "data": {
      "image/png": "[encoded data removed]",
      "text/plain": [
       "<Figure size 1000x400 with 1 Axes>"
      ]
     },
     "metadata": {},
     "output_type": "display_data"
    }
   ],
   "source": [
    "evaluate_and_visualize_predictions(\n",
    "    model_path=\"best_sequence_model_v1.h5\",\n",
    "    npy_file=\"/home/featurize/data/features_segmodel/ced55401-e5ba-4da3-b24f-57b711f604bf/sweep_2/features.npy\",\n",
    "    smooth_method='gaussian'\n",
    ")"
   ]
  },
  {
   "cell_type": "code",
   "execution_count": 4,
   "id": "1b1f9443-f301-41e4-b406-a17ed5c7dd91",
   "metadata": {},
   "outputs": [
    {
     "name": "stdout",
     "output_type": "stream",
     "text": [
      "\n",
      "=== Key Frame Hit Rate Evaluation ===\n",
      "Valid Files Evaluated : 109\n",
      "Threshold             : score ≥ 0.7\n",
      "Margin Excluded       : 10 frames\n",
      "Match Tolerance       : ±2 frames\n",
      "Total Predicted Frames: 942\n",
      "Total Hits (GT ≥ 0.5) : 799\n",
      "Overall Hit Ratio     : 0.8482  (micro, threshold-based)\n",
      "Avg Hit Ratio/File    : 0.5335 (macro, threshold-based)\n",
      "Mean Recall@K         : 0.8199  (macro, K=#GT, tolerance-aware)\n",
      "Mean Hit@1            : 0.8333  (macro, tolerance-aware)\n",
      "Visualizations saved to: proof_images\n"
     ]
    }
   ],
   "source": [
    "from evaluate_hit_rate_1 import evaluate_keyframe_hit_rate\n",
    "# evaluate_keyframe_hit_rate(\n",
    "#     \"best_sequence_model_v1.h5\", \n",
    "#     val_files, \n",
    "#     score_threshold=0.3\n",
    "# )\n",
    "\n",
    "evaluate_keyframe_hit_rate(\n",
    "    model_path=\"best_sequence_model_v1.h5\",\n",
    "    val_feature_files=val_files,\n",
    "    score_threshold=0.7,\n",
    "    smooth_method='gaussian',\n",
    "    exclude_margin=10,\n",
    "    save_dir=\"proof_images\",  # 保存证明效果的图\n",
    "    max_visualize=6\n",
    ")\n"
   ]
  },
  {
   "cell_type": "code",
   "execution_count": 5,
   "id": "c1853b9a-8afb-46af-9332-9513d8485bc4",
   "metadata": {},
   "outputs": [
    {
     "name": "stdout",
     "output_type": "stream",
     "text": [
      "\n",
      "=== Keyframe Position Bias Evaluation (Batch) ===\n",
      "Files evaluated     : 109\n",
      "Mean abs error      : 3.75 frames\n",
      "Median abs error    : 3.70 frames\n",
      "95% abs error ≤     : 5.20 frames\n",
      "Mean bias direction : -0.01 frames (pos=late, neg=early)\n",
      "Recall              : 80.65%\n",
      "Precision           : 80.65%\n",
      "\n",
      "Summary: {'n_files': 109, 'mean_abs_err_frames': 3.753034104208711, 'median_abs_err_frames': 3.7018348623853212, 'p95_abs_err_frames': 5.203211009174312, 'bias_frames': -0.011716830578111377, 'recall': 0.8064728276650682, 'precision': 0.8064728276650682}\n"
     ]
    }
   ],
   "source": [
    "from position_bias_batch_2 import position_bias_batch\n",
    "\n",
    "summary = position_bias_batch(\n",
    "    model_path=\"best_sequence_model_v1.h5\",\n",
    "    val_feature_files=val_files,\n",
    "    exclude_margin=10,\n",
    "    selection='topk',       # 或 'threshold'\n",
    "    score_threshold=0.7,\n",
    "    tolerance=2,\n",
    "    smooth_method='gaussian'\n",
    ")\n",
    "\n",
    "print(\"\\nSummary:\", summary)\n"
   ]
  },
  {
   "cell_type": "code",
   "execution_count": null,
   "id": "2443e9e3-cc88-4b3d-ad3c-fa2fb2f53013",
   "metadata": {},
   "outputs": [],
   "source": []
  },
  {
   "cell_type": "code",
   "execution_count": null,
   "id": "4ac9cd09-dd12-4273-a36c-ef838bc3fb6e",
   "metadata": {},
   "outputs": [],
   "source": []
  },
  {
   "cell_type": "code",
   "execution_count": 6,
   "id": "69677958-074a-41a1-96ce-bb315d4a4938",
   "metadata": {},
   "outputs": [
    {
     "name": "stdout",
     "output_type": "stream",
     "text": [
      "=== Frame-Level Evaluation ===\n",
      "Samples evaluated: 360\n",
      "Excluded margin: 10 frames\n",
      "ROC-AUC   : 0.9462\n",
      "mAP       : 0.7194\n",
      "Precision : 0.7406\n",
      "Recall    : 0.5875\n",
      "F1-score  : 0.6552\n"
     ]
    },
    {
     "data": {
      "text/plain": [
       "{'ROC-AUC': 0.9461594353079711,\n",
       " 'mAP': 0.719414785164047,\n",
       " 'Precision': 0.7405566600397614,\n",
       " 'Recall': 0.5875394321766562,\n",
       " 'F1-score': 0.6552330694810906}"
      ]
     },
     "execution_count": 6,
     "metadata": {},
     "output_type": "execute_result"
    }
   ],
   "source": [
    "from frame_level_metrics import compute_frame_level_metrics\n",
    "from glob import glob\n",
    "\n",
    "compute_frame_level_metrics(\n",
    "    model_path=\"best_sequence_model_v1.h5\",\n",
    "    feature_files=val_files,\n",
    "    margin_exclude=10,\n",
    "    threshold=0.7\n",
    ")"
   ]
  },
  {
   "cell_type": "code",
   "execution_count": 7,
   "id": "bbd5842c-c080-4bb6-bb95-09e30dfe9e34",
   "metadata": {},
   "outputs": [
    {
     "name": "stdout",
     "output_type": "stream",
     "text": [
      "=== Label Distribution Across All Files ===\n",
      "Label 1.0 (best):     376\n",
      "Label 0.5 (second):   931\n",
      "Label 0.0 (non-key):  40093\n",
      "Total frames:         41400\n"
     ]
    },
    {
     "data": {
      "image/png": "[encoded data removed]",
      "text/plain": [
       "<Figure size 600x400 with 1 Axes>"
      ]
     },
     "metadata": {},
     "output_type": "display_data"
    },
    {
     "data": {
      "text/plain": [
       "{'label_1.0': 376, 'label_0.5': 931, 'label_0.0': 40093, 'total_frames': 41400}"
      ]
     },
     "execution_count": 7,
     "metadata": {},
     "output_type": "execute_result"
    }
   ],
   "source": [
    "import numpy as np\n",
    "import matplotlib.pyplot as plt\n",
    "\n",
    "def plot_label_distribution(val_feature_files):\n",
    "    total_1 = 0\n",
    "    total_05 = 0\n",
    "    total_0 = 0\n",
    "    total_frames = 0\n",
    "\n",
    "    for path in val_feature_files:\n",
    "        data = np.load(path, allow_pickle=True).item()\n",
    "        labels = data[\"labels\"]\n",
    "\n",
    "        total_1 += np.sum(labels == 1.0)\n",
    "        total_05 += np.sum(labels == 0.5)\n",
    "        total_0 += np.sum(labels == 0.0)\n",
    "        total_frames += len(labels)\n",
    "\n",
    "    # 打印汇总\n",
    "    print(\"=== Label Distribution Across All Files ===\")\n",
    "    print(f\"Label 1.0 (best):     {total_1}\")\n",
    "    print(f\"Label 0.5 (second):   {total_05}\")\n",
    "    print(f\"Label 0.0 (non-key):  {total_0}\")\n",
    "    print(f\"Total frames:         {total_frames}\")\n",
    "\n",
    "    # 绘图\n",
    "    labels = ['1.0 (best)', '0.5 (second best)', '0.0 (non-key)']\n",
    "    counts = [total_1, total_05, total_0]\n",
    "\n",
    "    plt.figure(figsize=(6, 4))\n",
    "    plt.bar(labels, counts)\n",
    "    plt.title(\"Label Count Distribution (All Validation Files)\")\n",
    "    plt.ylabel(\"Frame Count\")\n",
    "    plt.grid(axis='y', linestyle='--', alpha=0.5)\n",
    "    plt.tight_layout()\n",
    "    plt.show()\n",
    "\n",
    "    return {\n",
    "        \"label_1.0\": total_1,\n",
    "        \"label_0.5\": total_05,\n",
    "        \"label_0.0\": total_0,\n",
    "        \"total_frames\": total_frames\n",
    "    }\n",
    "\n",
    "\n",
    "plot_label_distribution(val_files)\n"
   ]
  },
  {
   "cell_type": "code",
   "execution_count": null,
   "id": "ceb3b364-ef86-4c35-9879-1d2661555698",
   "metadata": {},
   "outputs": [],
   "source": []
  }
 ],
 "metadata": {
  "kernelspec": {
   "display_name": "Python 3 (ipykernel)",
   "language": "python",
   "name": "python3"
  },
  "language_info": {
   "codemirror_mode": {
    "name": "ipython",
    "version": 3
   },
   "file_extension": ".py",
   "mimetype": "text/x-python",
   "name": "python",
   "nbconvert_exporter": "python",
   "pygments_lexer": "ipython3",
   "version": "3.10.12"
  }
 },
 "nbformat": 4,
 "nbformat_minor": 5
}
