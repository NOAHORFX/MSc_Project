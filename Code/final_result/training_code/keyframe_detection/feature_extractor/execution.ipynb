{
 "cells": [
  {
   "cell_type": "code",
   "execution_count": 2,
   "id": "e1b0ce29-7a60-4a3b-8b2b-9abbe9c73c07",
   "metadata": {},
   "outputs": [
    {
     "name": "stdout",
     "output_type": "stream",
     "text": [
      "*** Output Shape: (None, 384, 508, 2) ***\n"
     ]
    },
    {
     "name": "stderr",
     "output_type": "stream",
     "text": [
      "Extracting features:   0%|          | 0/1800 [00:00<?, ?it/s]2025-07-26 12:31:09.839034: I tensorflow/compiler/xla/stream_executor/cuda/cuda_dnn.cc:432] Loaded cuDNN version 8600\n",
      "2025-07-26 12:31:10.915961: I tensorflow/compiler/xla/stream_executor/cuda/cuda_blas.cc:606] TensorFloat-32 will be used for the matrix multiplication. This will only be logged once.\n",
      "Extracting features: 100%|██████████| 1800/1800 [41:32<00:00,  1.38s/it]\n"
     ]
    }
   ],
   "source": [
    "from feature_extraction import *\n",
    "\n",
    "extract_features_from_sweeps(\n",
    "    sweep_root=\"/home/featurize/data/output\",\n",
    "    save_dir=\"/home/featurize/data/features_segmodel\",\n",
    "    max_frames=115,\n",
    "    weight_path=\"/home/featurize/data/my_model_weights.weights.h5\"\n",
    ")"
   ]
  },
  {
   "cell_type": "code",
   "execution_count": 3,
   "id": "58426850-7c38-4a50-91db-25b8ba66190c",
   "metadata": {},
   "outputs": [],
   "source": [
    "# from model import model as build_model\n",
    "\n",
    "# seg_model = build_model(img_height=384, img_width=508, classes=2)\n",
    "# seg_model.load_weights(\"/home/featurize/data/my_model_weights.weights.h5\")"
   ]
  },
  {
   "cell_type": "code",
   "execution_count": null,
   "id": "1beec385-644b-420f-915c-4a0302910f9d",
   "metadata": {},
   "outputs": [],
   "source": []
  }
 ],
 "metadata": {
  "kernelspec": {
   "display_name": "Python 3 (ipykernel)",
   "language": "python",
   "name": "python3"
  },
  "language_info": {
   "codemirror_mode": {
    "name": "ipython",
    "version": 3
   },
   "file_extension": ".py",
   "mimetype": "text/x-python",
   "name": "python",
   "nbconvert_exporter": "python",
   "pygments_lexer": "ipython3",
   "version": "3.10.12"
  }
 },
 "nbformat": 4,
 "nbformat_minor": 5
}
