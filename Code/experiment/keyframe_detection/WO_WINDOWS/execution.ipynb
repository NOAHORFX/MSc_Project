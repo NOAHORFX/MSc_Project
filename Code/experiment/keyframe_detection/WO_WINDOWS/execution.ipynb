{
 "cells": [
  {
   "cell_type": "code",
   "execution_count": 1,
   "id": "967e6cef-81d4-4c0f-8bf5-335e2cb4f2d3",
   "metadata": {},
   "outputs": [
    {
     "name": "stderr",
     "output_type": "stream",
     "text": [
      "2025-08-14 03:03:50.531502: I tensorflow/core/util/port.cc:110] oneDNN custom operations are on. You may see slightly different numerical results due to floating-point round-off errors from different computation orders. To turn them off, set the environment variable `TF_ENABLE_ONEDNN_OPTS=0`.\n",
      "2025-08-14 03:03:50.561727: I tensorflow/core/platform/cpu_feature_guard.cc:182] This TensorFlow binary is optimized to use available CPU instructions in performance-critical operations.\n",
      "To enable the following instructions: AVX2 AVX512F AVX512_VNNI AVX512_BF16 FMA, in other operations, rebuild TensorFlow with the appropriate compiler flags.\n",
      "2025-08-14 03:03:51.159280: W tensorflow/compiler/tf2tensorrt/utils/py_utils.cc:38] TF-TRT Warning: Could not find TensorRT\n",
      "2025-08-14 03:03:52.122844: I tensorflow/compiler/xla/stream_executor/cuda/cuda_gpu_executor.cc:995] successful NUMA node read from SysFS had negative value (-1), but there must be at least one NUMA node, so returning NUMA node zero. See more at https://github.com/torvalds/linux/blob/v6.0/Documentation/ABI/testing/sysfs-bus-pci#L344-L355\n",
      "2025-08-14 03:03:52.126863: I tensorflow/compiler/xla/stream_executor/cuda/cuda_gpu_executor.cc:995] successful NUMA node read from SysFS had negative value (-1), but there must be at least one NUMA node, so returning NUMA node zero. See more at https://github.com/torvalds/linux/blob/v6.0/Documentation/ABI/testing/sysfs-bus-pci#L344-L355\n",
      "2025-08-14 03:03:52.127026: I tensorflow/compiler/xla/stream_executor/cuda/cuda_gpu_executor.cc:995] successful NUMA node read from SysFS had negative value (-1), but there must be at least one NUMA node, so returning NUMA node zero. See more at https://github.com/torvalds/linux/blob/v6.0/Documentation/ABI/testing/sysfs-bus-pci#L344-L355\n",
      "2025-08-14 03:03:52.128315: I tensorflow/compiler/xla/stream_executor/cuda/cuda_gpu_executor.cc:995] successful NUMA node read from SysFS had negative value (-1), but there must be at least one NUMA node, so returning NUMA node zero. See more at https://github.com/torvalds/linux/blob/v6.0/Documentation/ABI/testing/sysfs-bus-pci#L344-L355\n",
      "2025-08-14 03:03:52.128466: I tensorflow/compiler/xla/stream_executor/cuda/cuda_gpu_executor.cc:995] successful NUMA node read from SysFS had negative value (-1), but there must be at least one NUMA node, so returning NUMA node zero. See more at https://github.com/torvalds/linux/blob/v6.0/Documentation/ABI/testing/sysfs-bus-pci#L344-L355\n",
      "2025-08-14 03:03:52.128575: I tensorflow/compiler/xla/stream_executor/cuda/cuda_gpu_executor.cc:995] successful NUMA node read from SysFS had negative value (-1), but there must be at least one NUMA node, so returning NUMA node zero. See more at https://github.com/torvalds/linux/blob/v6.0/Documentation/ABI/testing/sysfs-bus-pci#L344-L355\n",
      "2025-08-14 03:03:52.526199: I tensorflow/compiler/xla/stream_executor/cuda/cuda_gpu_executor.cc:995] successful NUMA node read from SysFS had negative value (-1), but there must be at least one NUMA node, so returning NUMA node zero. See more at https://github.com/torvalds/linux/blob/v6.0/Documentation/ABI/testing/sysfs-bus-pci#L344-L355\n",
      "2025-08-14 03:03:52.526373: I tensorflow/compiler/xla/stream_executor/cuda/cuda_gpu_executor.cc:995] successful NUMA node read from SysFS had negative value (-1), but there must be at least one NUMA node, so returning NUMA node zero. See more at https://github.com/torvalds/linux/blob/v6.0/Documentation/ABI/testing/sysfs-bus-pci#L344-L355\n",
      "2025-08-14 03:03:52.526489: I tensorflow/compiler/xla/stream_executor/cuda/cuda_gpu_executor.cc:995] successful NUMA node read from SysFS had negative value (-1), but there must be at least one NUMA node, so returning NUMA node zero. See more at https://github.com/torvalds/linux/blob/v6.0/Documentation/ABI/testing/sysfs-bus-pci#L344-L355\n",
      "2025-08-14 03:03:52.526567: W tensorflow/core/common_runtime/gpu/gpu_bfc_allocator.cc:47] Overriding orig_value setting because the TF_FORCE_GPU_ALLOW_GROWTH environment variable is set. Original config value was 0.\n",
      "2025-08-14 03:03:52.526594: I tensorflow/core/common_runtime/gpu/gpu_device.cc:1639] Created device /job:localhost/replica:0/task:0/device:GPU:0 with 22108 MB memory:  -> device: 0, name: NVIDIA GeForce RTX 4090, pci bus id: 0000:10:00.0, compute capability: 8.9\n"
     ]
    },
    {
     "name": "stdout",
     "output_type": "stream",
     "text": [
      "[INFO] Starting training (no sliding-window expansion)...\n",
      "[Callback] sim_weight updated to: 0.0000\n",
      "Epoch 1/30\n"
     ]
    },
    {
     "name": "stderr",
     "output_type": "stream",
     "text": [
      "2025-08-14 03:04:01.027852: I tensorflow/compiler/xla/stream_executor/cuda/cuda_dnn.cc:432] Loaded cuDNN version 8600\n",
      "Could not load symbol cublasGetSmCountTarget from libcublas.so.11. Error: /usr/local/cuda-11.2/targets/x86_64-linux/lib/libcublas.so.11: undefined symbol: cublasGetSmCountTarget\n",
      "2025-08-14 03:04:01.266842: I tensorflow/compiler/xla/stream_executor/cuda/cuda_blas.cc:606] TensorFloat-32 will be used for the matrix multiplication. This will only be logged once.\n",
      "2025-08-14 03:04:01.269295: I tensorflow/compiler/xla/service/service.cc:168] XLA service 0x7f9a642d0850 initialized for platform CUDA (this does not guarantee that XLA will be used). Devices:\n",
      "2025-08-14 03:04:01.269311: I tensorflow/compiler/xla/service/service.cc:176]   StreamExecutor device (0): NVIDIA GeForce RTX 4090, Compute Capability 8.9\n",
      "2025-08-14 03:04:01.272839: I tensorflow/compiler/mlir/tensorflow/utils/dump_mlir_util.cc:255] disabling MLIR crash reproducer, set env var `MLIR_CRASH_REPRODUCER_DIRECTORY` to enable.\n",
      "2025-08-14 03:04:01.412078: I ./tensorflow/compiler/jit/device_compiler.h:186] Compiled cluster using XLA!  This line is logged at most once for the lifetime of the process.\n"
     ]
    },
    {
     "name": "stdout",
     "output_type": "stream",
     "text": [
      "     90/Unknown - 14s 68ms/step - loss: 0.0223 - mae: 0.1071"
     ]
    },
    {
     "name": "stderr",
     "output_type": "stream",
     "text": [
      "2025-08-14 03:04:08.158812: I tensorflow/core/framework/local_rendezvous.cc:405] Local rendezvous recv item cancelled. Key hash: 9416008946492102709\n",
      "2025-08-14 03:04:08.158912: I tensorflow/core/framework/local_rendezvous.cc:405] Local rendezvous recv item cancelled. Key hash: 4064065347174755181\n",
      "2025-08-14 03:04:08.158932: I tensorflow/core/framework/local_rendezvous.cc:405] Local rendezvous recv item cancelled. Key hash: 14817044572195823539\n"
     ]
    },
    {
     "name": "stdout",
     "output_type": "stream",
     "text": [
      "\n",
      "Epoch 1: val_loss improved from inf to 0.01423, saving model to best_sequence_model_v1.h5\n"
     ]
    },
    {
     "name": "stderr",
     "output_type": "stream",
     "text": [
      "2025-08-14 03:04:11.394643: I tensorflow/core/framework/local_rendezvous.cc:405] Local rendezvous recv item cancelled. Key hash: 9798725375112358555\n",
      "2025-08-14 03:04:11.394744: I tensorflow/core/framework/local_rendezvous.cc:405] Local rendezvous recv item cancelled. Key hash: 12204979228550994569\n",
      "2025-08-14 03:04:11.394762: I tensorflow/core/framework/local_rendezvous.cc:405] Local rendezvous recv item cancelled. Key hash: 17890679063553031319\n",
      "2025-08-14 03:04:11.394776: I tensorflow/core/framework/local_rendezvous.cc:405] Local rendezvous recv item cancelled. Key hash: 5997727079030217785\n",
      "2025-08-14 03:04:11.394787: I tensorflow/core/framework/local_rendezvous.cc:405] Local rendezvous recv item cancelled. Key hash: 11239598783019550455\n",
      "2025-08-14 03:04:11.394802: I tensorflow/core/framework/local_rendezvous.cc:405] Local rendezvous recv item cancelled. Key hash: 14623814575638053096\n",
      "2025-08-14 03:04:11.394812: I tensorflow/core/framework/local_rendezvous.cc:405] Local rendezvous recv item cancelled. Key hash: 13219986457512094002\n",
      "2025-08-14 03:04:11.394824: I tensorflow/core/framework/local_rendezvous.cc:405] Local rendezvous recv item cancelled. Key hash: 14257379486962289828\n",
      "2025-08-14 03:04:11.394855: I tensorflow/core/framework/local_rendezvous.cc:405] Local rendezvous recv item cancelled. Key hash: 431845811130883486\n",
      "/environment/miniconda3/lib/python3.10/site-packages/keras/src/engine/training.py:3000: UserWarning: You are saving your model as an HDF5 file via `model.save()`. This file format is considered legacy. We recommend using instead the native Keras format, e.g. `model.save('my_model.keras')`.\n",
      "  saving_api.save_model(\n"
     ]
    },
    {
     "name": "stdout",
     "output_type": "stream",
     "text": [
      "90/90 [==============================] - 18s 107ms/step - loss: 0.0223 - mae: 0.1071 - val_loss: 0.0142 - val_mae: 0.1016 - lr: 0.0010\n",
      "[Callback] sim_weight updated to: 0.0067\n",
      "Epoch 2/30\n",
      "90/90 [==============================] - ETA: 0s - loss: 0.0154 - mae: 0.0895\n",
      "Epoch 2: val_loss improved from 0.01423 to 0.01349, saving model to best_sequence_model_v1.h5\n",
      "90/90 [==============================] - 9s 100ms/step - loss: 0.0154 - mae: 0.0895 - val_loss: 0.0135 - val_mae: 0.0950 - lr: 0.0010\n",
      "[Callback] sim_weight updated to: 0.0133\n",
      "Epoch 3/30\n"
     ]
    },
    {
     "name": "stderr",
     "output_type": "stream",
     "text": [
      "/environment/miniconda3/lib/python3.10/site-packages/keras/src/engine/training.py:3000: UserWarning: You are saving your model as an HDF5 file via `model.save()`. This file format is considered legacy. We recommend using instead the native Keras format, e.g. `model.save('my_model.keras')`.\n",
      "  saving_api.save_model(\n"
     ]
    },
    {
     "name": "stdout",
     "output_type": "stream",
     "text": [
      "90/90 [==============================] - ETA: 0s - loss: 0.0162 - mae: 0.0883\n",
      "Epoch 3: val_loss did not improve from 0.01349\n",
      "90/90 [==============================] - 9s 92ms/step - loss: 0.0162 - mae: 0.0883 - val_loss: 0.0148 - val_mae: 0.0761 - lr: 0.0010\n",
      "[Callback] sim_weight updated to: 0.0200\n",
      "Epoch 4/30\n",
      "89/90 [============================>.] - ETA: 0s - loss: 0.0156 - mae: 0.0905\n",
      "Epoch 4: val_loss improved from 0.01349 to 0.01319, saving model to best_sequence_model_v1.h5\n",
      "90/90 [==============================] - 9s 94ms/step - loss: 0.0155 - mae: 0.0903 - val_loss: 0.0132 - val_mae: 0.0877 - lr: 0.0010\n",
      "[Callback] sim_weight updated to: 0.0267\n",
      "Epoch 5/30\n"
     ]
    },
    {
     "name": "stderr",
     "output_type": "stream",
     "text": [
      "/environment/miniconda3/lib/python3.10/site-packages/keras/src/engine/training.py:3000: UserWarning: You are saving your model as an HDF5 file via `model.save()`. This file format is considered legacy. We recommend using instead the native Keras format, e.g. `model.save('my_model.keras')`.\n",
      "  saving_api.save_model(\n"
     ]
    },
    {
     "name": "stdout",
     "output_type": "stream",
     "text": [
      "90/90 [==============================] - ETA: 0s - loss: 0.0149 - mae: 0.0873\n",
      "Epoch 5: val_loss did not improve from 0.01319\n",
      "90/90 [==============================] - 9s 90ms/step - loss: 0.0149 - mae: 0.0873 - val_loss: 0.0152 - val_mae: 0.0860 - lr: 0.0010\n",
      "[Callback] sim_weight updated to: 0.0333\n",
      "Epoch 6/30\n",
      "90/90 [==============================] - ETA: 0s - loss: 0.0158 - mae: 0.0892\n",
      "Epoch 6: val_loss did not improve from 0.01319\n",
      "90/90 [==============================] - 9s 92ms/step - loss: 0.0158 - mae: 0.0892 - val_loss: 0.0144 - val_mae: 0.0946 - lr: 0.0010\n",
      "[Callback] sim_weight updated to: 0.0400\n",
      "Epoch 7/30\n",
      "89/90 [============================>.] - ETA: 0s - loss: 0.0155 - mae: 0.0897\n",
      "Epoch 7: val_loss improved from 0.01319 to 0.01318, saving model to best_sequence_model_v1.h5\n",
      "\n",
      "Epoch 7: ReduceLROnPlateau reducing learning rate to 0.0005000000237487257.\n",
      "90/90 [==============================] - 9s 92ms/step - loss: 0.0154 - mae: 0.0897 - val_loss: 0.0132 - val_mae: 0.0760 - lr: 0.0010\n",
      "[Callback] sim_weight updated to: 0.0467\n",
      "Epoch 8/30\n"
     ]
    },
    {
     "name": "stderr",
     "output_type": "stream",
     "text": [
      "/environment/miniconda3/lib/python3.10/site-packages/keras/src/engine/training.py:3000: UserWarning: You are saving your model as an HDF5 file via `model.save()`. This file format is considered legacy. We recommend using instead the native Keras format, e.g. `model.save('my_model.keras')`.\n",
      "  saving_api.save_model(\n"
     ]
    },
    {
     "name": "stdout",
     "output_type": "stream",
     "text": [
      "90/90 [==============================] - ETA: 0s - loss: 0.0140 - mae: 0.0789\n",
      "Epoch 8: val_loss improved from 0.01318 to 0.01256, saving model to best_sequence_model_v1.h5\n",
      "90/90 [==============================] - 9s 94ms/step - loss: 0.0140 - mae: 0.0789 - val_loss: 0.0126 - val_mae: 0.0767 - lr: 5.0000e-04\n",
      "[Callback] sim_weight updated to: 0.0533\n",
      "Epoch 9/30\n"
     ]
    },
    {
     "name": "stderr",
     "output_type": "stream",
     "text": [
      "/environment/miniconda3/lib/python3.10/site-packages/keras/src/engine/training.py:3000: UserWarning: You are saving your model as an HDF5 file via `model.save()`. This file format is considered legacy. We recommend using instead the native Keras format, e.g. `model.save('my_model.keras')`.\n",
      "  saving_api.save_model(\n"
     ]
    },
    {
     "name": "stdout",
     "output_type": "stream",
     "text": [
      "90/90 [==============================] - ETA: 0s - loss: 0.0133 - mae: 0.0744\n",
      "Epoch 9: val_loss improved from 0.01256 to 0.01091, saving model to best_sequence_model_v1.h5\n",
      "90/90 [==============================] - 9s 92ms/step - loss: 0.0133 - mae: 0.0744 - val_loss: 0.0109 - val_mae: 0.0680 - lr: 5.0000e-04\n",
      "[Callback] sim_weight updated to: 0.0600\n",
      "Epoch 10/30\n"
     ]
    },
    {
     "name": "stderr",
     "output_type": "stream",
     "text": [
      "/environment/miniconda3/lib/python3.10/site-packages/keras/src/engine/training.py:3000: UserWarning: You are saving your model as an HDF5 file via `model.save()`. This file format is considered legacy. We recommend using instead the native Keras format, e.g. `model.save('my_model.keras')`.\n",
      "  saving_api.save_model(\n"
     ]
    },
    {
     "name": "stdout",
     "output_type": "stream",
     "text": [
      "90/90 [==============================] - ETA: 0s - loss: 0.0128 - mae: 0.0741\n",
      "Epoch 10: val_loss did not improve from 0.01091\n",
      "90/90 [==============================] - 9s 94ms/step - loss: 0.0128 - mae: 0.0741 - val_loss: 0.0144 - val_mae: 0.0969 - lr: 5.0000e-04\n",
      "[Callback] sim_weight updated to: 0.0667\n",
      "Epoch 11/30\n",
      "90/90 [==============================] - ETA: 0s - loss: 0.0131 - mae: 0.0765\n",
      "Epoch 11: val_loss did not improve from 0.01091\n",
      "90/90 [==============================] - 9s 92ms/step - loss: 0.0131 - mae: 0.0765 - val_loss: 0.0117 - val_mae: 0.0581 - lr: 5.0000e-04\n",
      "[Callback] sim_weight updated to: 0.0733\n",
      "Epoch 12/30\n",
      "90/90 [==============================] - ETA: 0s - loss: 0.0120 - mae: 0.0652\n",
      "Epoch 12: val_loss did not improve from 0.01091\n",
      "\n",
      "Epoch 12: ReduceLROnPlateau reducing learning rate to 0.0002500000118743628.\n",
      "90/90 [==============================] - 9s 96ms/step - loss: 0.0120 - mae: 0.0652 - val_loss: 0.0116 - val_mae: 0.0658 - lr: 5.0000e-04\n",
      "[Callback] sim_weight updated to: 0.0800\n",
      "Epoch 13/30\n",
      "89/90 [============================>.] - ETA: 0s - loss: 0.0108 - mae: 0.0600\n",
      "Epoch 13: val_loss improved from 0.01091 to 0.01078, saving model to best_sequence_model_v1.h5\n",
      "90/90 [==============================] - 9s 91ms/step - loss: 0.0107 - mae: 0.0598 - val_loss: 0.0108 - val_mae: 0.0543 - lr: 2.5000e-04\n",
      "[Callback] sim_weight updated to: 0.0867\n",
      "Epoch 14/30\n"
     ]
    },
    {
     "name": "stderr",
     "output_type": "stream",
     "text": [
      "/environment/miniconda3/lib/python3.10/site-packages/keras/src/engine/training.py:3000: UserWarning: You are saving your model as an HDF5 file via `model.save()`. This file format is considered legacy. We recommend using instead the native Keras format, e.g. `model.save('my_model.keras')`.\n",
      "  saving_api.save_model(\n"
     ]
    },
    {
     "name": "stdout",
     "output_type": "stream",
     "text": [
      "90/90 [==============================] - ETA: 0s - loss: 0.0104 - mae: 0.0569\n",
      "Epoch 14: val_loss improved from 0.01078 to 0.00944, saving model to best_sequence_model_v1.h5\n",
      "90/90 [==============================] - 9s 95ms/step - loss: 0.0104 - mae: 0.0569 - val_loss: 0.0094 - val_mae: 0.0622 - lr: 2.5000e-04\n",
      "[Callback] sim_weight updated to: 0.0933\n",
      "Epoch 15/30\n"
     ]
    },
    {
     "name": "stderr",
     "output_type": "stream",
     "text": [
      "/environment/miniconda3/lib/python3.10/site-packages/keras/src/engine/training.py:3000: UserWarning: You are saving your model as an HDF5 file via `model.save()`. This file format is considered legacy. We recommend using instead the native Keras format, e.g. `model.save('my_model.keras')`.\n",
      "  saving_api.save_model(\n"
     ]
    },
    {
     "name": "stdout",
     "output_type": "stream",
     "text": [
      "90/90 [==============================] - ETA: 0s - loss: 0.0100 - mae: 0.0571\n",
      "Epoch 15: val_loss did not improve from 0.00944\n",
      "90/90 [==============================] - 9s 92ms/step - loss: 0.0100 - mae: 0.0571 - val_loss: 0.0108 - val_mae: 0.0566 - lr: 2.5000e-04\n",
      "[Callback] sim_weight updated to: 0.1000\n",
      "Epoch 16/30\n",
      "90/90 [==============================] - ETA: 0s - loss: 0.0106 - mae: 0.0585\n",
      "Epoch 16: val_loss did not improve from 0.00944\n",
      "90/90 [==============================] - 9s 90ms/step - loss: 0.0106 - mae: 0.0585 - val_loss: 0.0097 - val_mae: 0.0686 - lr: 2.5000e-04\n",
      "[Callback] sim_weight updated to: 0.1067\n",
      "Epoch 17/30\n",
      "90/90 [==============================] - ETA: 0s - loss: 0.0106 - mae: 0.0580\n",
      "Epoch 17: val_loss did not improve from 0.00944\n",
      "\n",
      "Epoch 17: ReduceLROnPlateau reducing learning rate to 0.0001250000059371814.\n",
      "90/90 [==============================] - 9s 89ms/step - loss: 0.0106 - mae: 0.0580 - val_loss: 0.0107 - val_mae: 0.0749 - lr: 2.5000e-04\n",
      "[Callback] sim_weight updated to: 0.1133\n",
      "Epoch 18/30\n",
      "90/90 [==============================] - ETA: 0s - loss: 0.0095 - mae: 0.0539\n",
      "Epoch 18: val_loss improved from 0.00944 to 0.00898, saving model to best_sequence_model_v1.h5\n",
      "90/90 [==============================] - 9s 94ms/step - loss: 0.0095 - mae: 0.0539 - val_loss: 0.0090 - val_mae: 0.0594 - lr: 1.2500e-04\n",
      "[Callback] sim_weight updated to: 0.1200\n",
      "Epoch 19/30\n"
     ]
    },
    {
     "name": "stderr",
     "output_type": "stream",
     "text": [
      "/environment/miniconda3/lib/python3.10/site-packages/keras/src/engine/training.py:3000: UserWarning: You are saving your model as an HDF5 file via `model.save()`. This file format is considered legacy. We recommend using instead the native Keras format, e.g. `model.save('my_model.keras')`.\n",
      "  saving_api.save_model(\n"
     ]
    },
    {
     "name": "stdout",
     "output_type": "stream",
     "text": [
      "90/90 [==============================] - ETA: 0s - loss: 0.0092 - mae: 0.0527\n",
      "Epoch 19: val_loss did not improve from 0.00898\n",
      "90/90 [==============================] - 9s 97ms/step - loss: 0.0092 - mae: 0.0527 - val_loss: 0.0102 - val_mae: 0.0552 - lr: 1.2500e-04\n",
      "[Callback] sim_weight updated to: 0.1267\n",
      "Epoch 20/30\n",
      "90/90 [==============================] - ETA: 0s - loss: 0.0094 - mae: 0.0530\n",
      "Epoch 20: val_loss improved from 0.00898 to 0.00893, saving model to best_sequence_model_v1.h5\n"
     ]
    },
    {
     "name": "stderr",
     "output_type": "stream",
     "text": [
      "/environment/miniconda3/lib/python3.10/site-packages/keras/src/engine/training.py:3000: UserWarning: You are saving your model as an HDF5 file via `model.save()`. This file format is considered legacy. We recommend using instead the native Keras format, e.g. `model.save('my_model.keras')`.\n",
      "  saving_api.save_model(\n"
     ]
    },
    {
     "name": "stdout",
     "output_type": "stream",
     "text": [
      "90/90 [==============================] - 9s 93ms/step - loss: 0.0094 - mae: 0.0530 - val_loss: 0.0089 - val_mae: 0.0447 - lr: 1.2500e-04\n",
      "[Callback] sim_weight updated to: 0.1333\n",
      "Epoch 21/30\n",
      "90/90 [==============================] - ETA: 0s - loss: 0.0090 - mae: 0.0514\n",
      "Epoch 21: val_loss did not improve from 0.00893\n",
      "\n",
      "Epoch 21: ReduceLROnPlateau reducing learning rate to 6.25000029685907e-05.\n",
      "90/90 [==============================] - 9s 96ms/step - loss: 0.0090 - mae: 0.0514 - val_loss: 0.0091 - val_mae: 0.0475 - lr: 1.2500e-04\n",
      "[Callback] sim_weight updated to: 0.1400\n",
      "Epoch 22/30\n",
      "90/90 [==============================] - ETA: 0s - loss: 0.0088 - mae: 0.0497\n",
      "Epoch 22: val_loss did not improve from 0.00893\n",
      "90/90 [==============================] - 9s 97ms/step - loss: 0.0088 - mae: 0.0497 - val_loss: 0.0092 - val_mae: 0.0604 - lr: 6.2500e-05\n",
      "[Callback] sim_weight updated to: 0.1467\n",
      "Epoch 23/30\n",
      "90/90 [==============================] - ETA: 0s - loss: 0.0088 - mae: 0.0511\n",
      "Epoch 23: val_loss improved from 0.00893 to 0.00873, saving model to best_sequence_model_v1.h5\n"
     ]
    },
    {
     "name": "stderr",
     "output_type": "stream",
     "text": [
      "/environment/miniconda3/lib/python3.10/site-packages/keras/src/engine/training.py:3000: UserWarning: You are saving your model as an HDF5 file via `model.save()`. This file format is considered legacy. We recommend using instead the native Keras format, e.g. `model.save('my_model.keras')`.\n",
      "  saving_api.save_model(\n"
     ]
    },
    {
     "name": "stdout",
     "output_type": "stream",
     "text": [
      "90/90 [==============================] - 9s 91ms/step - loss: 0.0088 - mae: 0.0511 - val_loss: 0.0087 - val_mae: 0.0553 - lr: 6.2500e-05\n",
      "[Callback] sim_weight updated to: 0.1533\n",
      "Epoch 24/30\n",
      "90/90 [==============================] - ETA: 0s - loss: 0.0087 - mae: 0.0506\n",
      "Epoch 24: val_loss improved from 0.00873 to 0.00866, saving model to best_sequence_model_v1.h5\n"
     ]
    },
    {
     "name": "stderr",
     "output_type": "stream",
     "text": [
      "/environment/miniconda3/lib/python3.10/site-packages/keras/src/engine/training.py:3000: UserWarning: You are saving your model as an HDF5 file via `model.save()`. This file format is considered legacy. We recommend using instead the native Keras format, e.g. `model.save('my_model.keras')`.\n",
      "  saving_api.save_model(\n"
     ]
    },
    {
     "name": "stdout",
     "output_type": "stream",
     "text": [
      "90/90 [==============================] - 9s 91ms/step - loss: 0.0087 - mae: 0.0506 - val_loss: 0.0087 - val_mae: 0.0444 - lr: 6.2500e-05\n",
      "[Callback] sim_weight updated to: 0.1600\n",
      "Epoch 25/30\n",
      "90/90 [==============================] - ETA: 0s - loss: 0.0088 - mae: 0.0515\n",
      "Epoch 25: val_loss did not improve from 0.00866\n",
      "90/90 [==============================] - 9s 92ms/step - loss: 0.0088 - mae: 0.0515 - val_loss: 0.0089 - val_mae: 0.0581 - lr: 6.2500e-05\n",
      "[Callback] sim_weight updated to: 0.1667\n",
      "Epoch 26/30\n",
      "90/90 [==============================] - ETA: 0s - loss: 0.0088 - mae: 0.0500\n",
      "Epoch 26: val_loss did not improve from 0.00866\n",
      "\n",
      "Epoch 26: ReduceLROnPlateau reducing learning rate to 3.125000148429535e-05.\n",
      "90/90 [==============================] - 9s 90ms/step - loss: 0.0088 - mae: 0.0500 - val_loss: 0.0088 - val_mae: 0.0578 - lr: 6.2500e-05\n",
      "[Callback] sim_weight updated to: 0.1733\n",
      "Epoch 27/30\n",
      "90/90 [==============================] - ETA: 0s - loss: 0.0086 - mae: 0.0496\n",
      "Epoch 27: val_loss improved from 0.00866 to 0.00855, saving model to best_sequence_model_v1.h5\n",
      "90/90 [==============================] - 9s 97ms/step - loss: 0.0086 - mae: 0.0496 - val_loss: 0.0086 - val_mae: 0.0461 - lr: 3.1250e-05\n",
      "[Callback] sim_weight updated to: 0.1800\n",
      "Epoch 28/30\n"
     ]
    },
    {
     "name": "stderr",
     "output_type": "stream",
     "text": [
      "/environment/miniconda3/lib/python3.10/site-packages/keras/src/engine/training.py:3000: UserWarning: You are saving your model as an HDF5 file via `model.save()`. This file format is considered legacy. We recommend using instead the native Keras format, e.g. `model.save('my_model.keras')`.\n",
      "  saving_api.save_model(\n"
     ]
    },
    {
     "name": "stdout",
     "output_type": "stream",
     "text": [
      "90/90 [==============================] - ETA: 0s - loss: 0.0086 - mae: 0.0496\n",
      "Epoch 28: val_loss improved from 0.00855 to 0.00853, saving model to best_sequence_model_v1.h5\n",
      "90/90 [==============================] - 9s 97ms/step - loss: 0.0086 - mae: 0.0496 - val_loss: 0.0085 - val_mae: 0.0478 - lr: 3.1250e-05\n"
     ]
    },
    {
     "name": "stderr",
     "output_type": "stream",
     "text": [
      "/environment/miniconda3/lib/python3.10/site-packages/keras/src/engine/training.py:3000: UserWarning: You are saving your model as an HDF5 file via `model.save()`. This file format is considered legacy. We recommend using instead the native Keras format, e.g. `model.save('my_model.keras')`.\n",
      "  saving_api.save_model(\n"
     ]
    },
    {
     "name": "stdout",
     "output_type": "stream",
     "text": [
      "[Callback] sim_weight updated to: 0.1867\n",
      "Epoch 29/30\n",
      "89/90 [============================>.] - ETA: 0s - loss: 0.0085 - mae: 0.0490\n",
      "Epoch 29: val_loss did not improve from 0.00853\n",
      "90/90 [==============================] - 9s 89ms/step - loss: 0.0085 - mae: 0.0491 - val_loss: 0.0087 - val_mae: 0.0522 - lr: 3.1250e-05\n",
      "[Callback] sim_weight updated to: 0.1933\n",
      "Epoch 30/30\n",
      "90/90 [==============================] - ETA: 0s - loss: 0.0086 - mae: 0.0493\n",
      "Epoch 30: val_loss improved from 0.00853 to 0.00853, saving model to best_sequence_model_v1.h5\n",
      "\n",
      "Epoch 30: ReduceLROnPlateau reducing learning rate to 1.5625000742147677e-05.\n",
      "90/90 [==============================] - 9s 91ms/step - loss: 0.0086 - mae: 0.0493 - val_loss: 0.0085 - val_mae: 0.0506 - lr: 3.1250e-05\n",
      "[INFO] Best model saved to: best_sequence_model_v1.h5\n"
     ]
    },
    {
     "name": "stderr",
     "output_type": "stream",
     "text": [
      "/environment/miniconda3/lib/python3.10/site-packages/keras/src/engine/training.py:3000: UserWarning: You are saving your model as an HDF5 file via `model.save()`. This file format is considered legacy. We recommend using instead the native Keras format, e.g. `model.save('my_model.keras')`.\n",
      "  saving_api.save_model(\n"
     ]
    }
   ],
   "source": [
    "from sequence_trainer_tf import train_sequence_model\n",
    "model, val_files = train_sequence_model(\n",
    "    feature_dir=\"/home/featurize/data/features_segmodel\",\n",
    "    input_shape=(115, 6144),\n",
    "    batch_size=16,\n",
    "    epochs=30,\n",
    "    model_save_path=\"best_sequence_model_v1.h5\"\n",
    ")"
   ]
  },
  {
   "cell_type": "code",
   "execution_count": 2,
   "id": "d5c82615-deca-45d5-a72e-2b0b3d5659c6",
   "metadata": {},
   "outputs": [
    {
     "name": "stdout",
     "output_type": "stream",
     "text": [
      "/home/featurize/data/features_segmodel/300602fc-058e-456b-b872-8e9573428309/sweep_4/features.npy\n"
     ]
    }
   ],
   "source": [
    "import random\n",
    "from evaluate_prediction_tf import evaluate_and_visualize_predictions\n",
    "\n",
    "print(random.choice(val_files))"
   ]
  },
  {
   "cell_type": "code",
   "execution_count": 3,
   "id": "bb851cf1-1f47-4172-87f1-26dac1ae73fb",
   "metadata": {},
   "outputs": [
    {
     "name": "stdout",
     "output_type": "stream",
     "text": [
      "1/1 [==============================] - 1s 1s/step\n",
      "Prediction std: 0.0957\n",
      "Detected 1 relative peaks\n",
      "Predicted key frames: [43, 44, 42]\n",
      "Scores: [0.35588908, 0.35346103, 0.34843203]\n"
     ]
    },
    {
     "data": {
      "image/png": "[encoded data removed]",
      "text/plain": [
       "<Figure size 1000x400 with 1 Axes>"
      ]
     },
     "metadata": {},
     "output_type": "display_data"
    }
   ],
   "source": [
    "evaluate_and_visualize_predictions(\n",
    "    model_path=\"best_sequence_model_v1.h5\",\n",
    "    npy_file=\"/home/featurize/data/features_segmodel/ced55401-e5ba-4da3-b24f-57b711f604bf/sweep_2/features.npy\",\n",
    "    smooth_method='gaussian'\n",
    ")"
   ]
  },
  {
   "cell_type": "code",
   "execution_count": 4,
   "id": "1b1f9443-f301-41e4-b406-a17ed5c7dd91",
   "metadata": {},
   "outputs": [
    {
     "name": "stdout",
     "output_type": "stream",
     "text": [
      "\n",
      "=== Key Frame Hit Rate Evaluation ===\n",
      "Valid Files Evaluated : 109\n",
      "Threshold             : score ≥ 0.7\n",
      "Margin Excluded       : 10 frames\n",
      "Match Tolerance       : ±2 frames\n",
      "Total Predicted Frames: 112\n",
      "Total Hits (GT ≥ 0.5) : 109\n",
      "Overall Hit Ratio     : 0.9732  (micro, threshold-based)\n",
      "Avg Hit Ratio/File    : 0.1239 (macro, threshold-based)\n",
      "Mean Recall@K         : 0.7993  (macro, K=#GT, tolerance-aware)\n",
      "Mean Hit@1            : 0.8241  (macro, tolerance-aware)\n",
      "Visualizations saved to: proof_images\n"
     ]
    }
   ],
   "source": [
    "from evaluate_hit_rate_1 import evaluate_keyframe_hit_rate\n",
    "# evaluate_keyframe_hit_rate(\n",
    "#     \"best_sequence_model_v1.h5\", \n",
    "#     val_files, \n",
    "#     score_threshold=0.3\n",
    "# )\n",
    "\n",
    "evaluate_keyframe_hit_rate(\n",
    "    model_path=\"best_sequence_model_v1.h5\",\n",
    "    val_feature_files=val_files,\n",
    "    score_threshold=0.7,\n",
    "    smooth_method='gaussian',\n",
    "    exclude_margin=10,\n",
    "    save_dir=\"proof_images\",  # 保存证明效果的图\n",
    "    max_visualize=6\n",
    ")\n"
   ]
  },
  {
   "cell_type": "code",
   "execution_count": 5,
   "id": "c1853b9a-8afb-46af-9332-9513d8485bc4",
   "metadata": {},
   "outputs": [
    {
     "name": "stdout",
     "output_type": "stream",
     "text": [
      "\n",
      "=== Keyframe Position Bias Evaluation (Batch) ===\n",
      "Files evaluated     : 109\n",
      "Mean abs error      : 4.58 frames\n",
      "Median abs error    : 4.57 frames\n",
      "95% abs error ≤     : 6.72 frames\n",
      "Mean bias direction : -1.20 frames (pos=late, neg=early)\n",
      "Recall              : 78.32%\n",
      "Precision           : 78.32%\n",
      "\n",
      "Summary: {'n_files': 109, 'mean_abs_err_frames': 4.580443163593238, 'median_abs_err_frames': 4.568807339449541, 'p95_abs_err_frames': 6.715596330275228, 'bias_frames': -1.1983232632391623, 'recall': 0.783225760064034, 'precision': 0.783225760064034}\n"
     ]
    }
   ],
   "source": [
    "from position_bias_batch_2 import position_bias_batch\n",
    "\n",
    "summary = position_bias_batch(\n",
    "    model_path=\"best_sequence_model_v1.h5\",\n",
    "    val_feature_files=val_files,\n",
    "    exclude_margin=10,\n",
    "    selection='topk',       # 或 'threshold'\n",
    "    score_threshold=0.7,\n",
    "    tolerance=2,\n",
    "    smooth_method='gaussian'\n",
    ")\n",
    "\n",
    "print(\"\\nSummary:\", summary)\n"
   ]
  },
  {
   "cell_type": "code",
   "execution_count": null,
   "id": "2443e9e3-cc88-4b3d-ad3c-fa2fb2f53013",
   "metadata": {},
   "outputs": [],
   "source": []
  },
  {
   "cell_type": "code",
   "execution_count": null,
   "id": "4ac9cd09-dd12-4273-a36c-ef838bc3fb6e",
   "metadata": {},
   "outputs": [],
   "source": []
  },
  {
   "cell_type": "code",
   "execution_count": 6,
   "id": "69677958-074a-41a1-96ce-bb315d4a4938",
   "metadata": {},
   "outputs": [
    {
     "name": "stdout",
     "output_type": "stream",
     "text": [
      "=== Frame-Level Evaluation ===\n",
      "Samples evaluated: 360\n",
      "Excluded margin: 10 frames\n",
      "ROC-AUC   : 0.9199\n",
      "mAP       : 0.6527\n",
      "Precision : 0.8913\n",
      "Recall    : 0.0970\n",
      "F1-score  : 0.1750\n"
     ]
    },
    {
     "data": {
      "text/plain": [
       "{'ROC-AUC': 0.9198845093295479,\n",
       " 'mAP': 0.6527356702528352,\n",
       " 'Precision': 0.8913043478260869,\n",
       " 'Recall': 0.09700315457413249,\n",
       " 'F1-score': 0.17496443812233287}"
      ]
     },
     "execution_count": 6,
     "metadata": {},
     "output_type": "execute_result"
    }
   ],
   "source": [
    "from frame_level_metrics import compute_frame_level_metrics\n",
    "from glob import glob\n",
    "\n",
    "compute_frame_level_metrics(\n",
    "    model_path=\"best_sequence_model_v1.h5\",\n",
    "    feature_files=val_files,\n",
    "    margin_exclude=10,\n",
    "    threshold=0.7\n",
    ")"
   ]
  },
  {
   "cell_type": "code",
   "execution_count": 7,
   "id": "bbd5842c-c080-4bb6-bb95-09e30dfe9e34",
   "metadata": {},
   "outputs": [
    {
     "name": "stdout",
     "output_type": "stream",
     "text": [
      "=== Label Distribution Across All Files ===\n",
      "Label 1.0 (best):     376\n",
      "Label 0.5 (second):   931\n",
      "Label 0.0 (non-key):  40093\n",
      "Total frames:         41400\n"
     ]
    },
    {
     "data": {
      "image/png": "[encoded data removed]",
      "text/plain": [
       "<Figure size 600x400 with 1 Axes>"
      ]
     },
     "metadata": {},
     "output_type": "display_data"
    },
    {
     "data": {
      "text/plain": [
       "{'label_1.0': 376, 'label_0.5': 931, 'label_0.0': 40093, 'total_frames': 41400}"
      ]
     },
     "execution_count": 7,
     "metadata": {},
     "output_type": "execute_result"
    }
   ],
   "source": [
    "import numpy as np\n",
    "import matplotlib.pyplot as plt\n",
    "\n",
    "def plot_label_distribution(val_feature_files):\n",
    "    total_1 = 0\n",
    "    total_05 = 0\n",
    "    total_0 = 0\n",
    "    total_frames = 0\n",
    "\n",
    "    for path in val_feature_files:\n",
    "        data = np.load(path, allow_pickle=True).item()\n",
    "        labels = data[\"labels\"]\n",
    "\n",
    "        total_1 += np.sum(labels == 1.0)\n",
    "        total_05 += np.sum(labels == 0.5)\n",
    "        total_0 += np.sum(labels == 0.0)\n",
    "        total_frames += len(labels)\n",
    "\n",
    "    # 打印汇总\n",
    "    print(\"=== Label Distribution Across All Files ===\")\n",
    "    print(f\"Label 1.0 (best):     {total_1}\")\n",
    "    print(f\"Label 0.5 (second):   {total_05}\")\n",
    "    print(f\"Label 0.0 (non-key):  {total_0}\")\n",
    "    print(f\"Total frames:         {total_frames}\")\n",
    "\n",
    "    # 绘图\n",
    "    labels = ['1.0 (best)', '0.5 (second best)', '0.0 (non-key)']\n",
    "    counts = [total_1, total_05, total_0]\n",
    "\n",
    "    plt.figure(figsize=(6, 4))\n",
    "    plt.bar(labels, counts)\n",
    "    plt.title(\"Label Count Distribution (All Validation Files)\")\n",
    "    plt.ylabel(\"Frame Count\")\n",
    "    plt.grid(axis='y', linestyle='--', alpha=0.5)\n",
    "    plt.tight_layout()\n",
    "    plt.show()\n",
    "\n",
    "    return {\n",
    "        \"label_1.0\": total_1,\n",
    "        \"label_0.5\": total_05,\n",
    "        \"label_0.0\": total_0,\n",
    "        \"total_frames\": total_frames\n",
    "    }\n",
    "\n",
    "\n",
    "plot_label_distribution(val_files)\n"
   ]
  },
  {
   "cell_type": "code",
   "execution_count": null,
   "id": "ceb3b364-ef86-4c35-9879-1d2661555698",
   "metadata": {},
   "outputs": [],
   "source": []
  }
 ],
 "metadata": {
  "kernelspec": {
   "display_name": "Python 3 (ipykernel)",
   "language": "python",
   "name": "python3"
  },
  "language_info": {
   "codemirror_mode": {
    "name": "ipython",
    "version": 3
   },
   "file_extension": ".py",
   "mimetype": "text/x-python",
   "name": "python",
   "nbconvert_exporter": "python",
   "pygments_lexer": "ipython3",
   "version": "3.10.12"
  }
 },
 "nbformat": 4,
 "nbformat_minor": 5
}
