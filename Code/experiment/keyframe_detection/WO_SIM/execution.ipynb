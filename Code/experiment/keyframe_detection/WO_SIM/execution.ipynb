{
 "cells": [
  {
   "cell_type": "code",
   "execution_count": 1,
   "id": "967e6cef-81d4-4c0f-8bf5-335e2cb4f2d3",
   "metadata": {},
   "outputs": [
    {
     "name": "stderr",
     "output_type": "stream",
     "text": [
      "2025-08-14 02:43:10.268490: I tensorflow/core/util/port.cc:110] oneDNN custom operations are on. You may see slightly different numerical results due to floating-point round-off errors from different computation orders. To turn them off, set the environment variable `TF_ENABLE_ONEDNN_OPTS=0`.\n",
      "2025-08-14 02:43:10.299272: I tensorflow/core/platform/cpu_feature_guard.cc:182] This TensorFlow binary is optimized to use available CPU instructions in performance-critical operations.\n",
      "To enable the following instructions: AVX2 AVX512F AVX512_VNNI AVX512_BF16 FMA, in other operations, rebuild TensorFlow with the appropriate compiler flags.\n",
      "2025-08-14 02:43:10.883140: W tensorflow/compiler/tf2tensorrt/utils/py_utils.cc:38] TF-TRT Warning: Could not find TensorRT\n",
      "2025-08-14 02:43:11.788512: I tensorflow/compiler/xla/stream_executor/cuda/cuda_gpu_executor.cc:995] successful NUMA node read from SysFS had negative value (-1), but there must be at least one NUMA node, so returning NUMA node zero. See more at https://github.com/torvalds/linux/blob/v6.0/Documentation/ABI/testing/sysfs-bus-pci#L344-L355\n",
      "2025-08-14 02:43:11.792378: I tensorflow/compiler/xla/stream_executor/cuda/cuda_gpu_executor.cc:995] successful NUMA node read from SysFS had negative value (-1), but there must be at least one NUMA node, so returning NUMA node zero. See more at https://github.com/torvalds/linux/blob/v6.0/Documentation/ABI/testing/sysfs-bus-pci#L344-L355\n",
      "2025-08-14 02:43:11.792524: I tensorflow/compiler/xla/stream_executor/cuda/cuda_gpu_executor.cc:995] successful NUMA node read from SysFS had negative value (-1), but there must be at least one NUMA node, so returning NUMA node zero. See more at https://github.com/torvalds/linux/blob/v6.0/Documentation/ABI/testing/sysfs-bus-pci#L344-L355\n",
      "2025-08-14 02:43:11.793516: I tensorflow/compiler/xla/stream_executor/cuda/cuda_gpu_executor.cc:995] successful NUMA node read from SysFS had negative value (-1), but there must be at least one NUMA node, so returning NUMA node zero. See more at https://github.com/torvalds/linux/blob/v6.0/Documentation/ABI/testing/sysfs-bus-pci#L344-L355\n",
      "2025-08-14 02:43:11.793654: I tensorflow/compiler/xla/stream_executor/cuda/cuda_gpu_executor.cc:995] successful NUMA node read from SysFS had negative value (-1), but there must be at least one NUMA node, so returning NUMA node zero. See more at https://github.com/torvalds/linux/blob/v6.0/Documentation/ABI/testing/sysfs-bus-pci#L344-L355\n",
      "2025-08-14 02:43:11.793761: I tensorflow/compiler/xla/stream_executor/cuda/cuda_gpu_executor.cc:995] successful NUMA node read from SysFS had negative value (-1), but there must be at least one NUMA node, so returning NUMA node zero. See more at https://github.com/torvalds/linux/blob/v6.0/Documentation/ABI/testing/sysfs-bus-pci#L344-L355\n",
      "2025-08-14 02:43:12.166213: I tensorflow/compiler/xla/stream_executor/cuda/cuda_gpu_executor.cc:995] successful NUMA node read from SysFS had negative value (-1), but there must be at least one NUMA node, so returning NUMA node zero. See more at https://github.com/torvalds/linux/blob/v6.0/Documentation/ABI/testing/sysfs-bus-pci#L344-L355\n",
      "2025-08-14 02:43:12.166386: I tensorflow/compiler/xla/stream_executor/cuda/cuda_gpu_executor.cc:995] successful NUMA node read from SysFS had negative value (-1), but there must be at least one NUMA node, so returning NUMA node zero. See more at https://github.com/torvalds/linux/blob/v6.0/Documentation/ABI/testing/sysfs-bus-pci#L344-L355\n",
      "2025-08-14 02:43:12.166501: I tensorflow/compiler/xla/stream_executor/cuda/cuda_gpu_executor.cc:995] successful NUMA node read from SysFS had negative value (-1), but there must be at least one NUMA node, so returning NUMA node zero. See more at https://github.com/torvalds/linux/blob/v6.0/Documentation/ABI/testing/sysfs-bus-pci#L344-L355\n",
      "2025-08-14 02:43:12.166578: W tensorflow/core/common_runtime/gpu/gpu_bfc_allocator.cc:47] Overriding orig_value setting because the TF_FORCE_GPU_ALLOW_GROWTH environment variable is set. Original config value was 0.\n",
      "2025-08-14 02:43:12.166599: I tensorflow/core/common_runtime/gpu/gpu_device.cc:1639] Created device /job:localhost/replica:0/task:0/device:GPU:0 with 22108 MB memory:  -> device: 0, name: NVIDIA GeForce RTX 4090, pci bus id: 0000:10:00.0, compute capability: 8.9\n"
     ]
    },
    {
     "name": "stdout",
     "output_type": "stream",
     "text": [
      "[INFO] Starting training...\n",
      "[Callback] sim_weight updated to: 0.0000\n",
      "Epoch 1/30\n"
     ]
    },
    {
     "name": "stderr",
     "output_type": "stream",
     "text": [
      "2025-08-14 02:43:20.799345: I tensorflow/compiler/xla/stream_executor/cuda/cuda_dnn.cc:432] Loaded cuDNN version 8600\n",
      "Could not load symbol cublasGetSmCountTarget from libcublas.so.11. Error: /usr/local/cuda-11.2/targets/x86_64-linux/lib/libcublas.so.11: undefined symbol: cublasGetSmCountTarget\n",
      "2025-08-14 02:43:21.039804: I tensorflow/compiler/xla/stream_executor/cuda/cuda_blas.cc:606] TensorFloat-32 will be used for the matrix multiplication. This will only be logged once.\n",
      "2025-08-14 02:43:21.042837: I tensorflow/compiler/xla/service/service.cc:168] XLA service 0x7fa1ec076fc0 initialized for platform CUDA (this does not guarantee that XLA will be used). Devices:\n",
      "2025-08-14 02:43:21.043086: I tensorflow/compiler/xla/service/service.cc:176]   StreamExecutor device (0): NVIDIA GeForce RTX 4090, Compute Capability 8.9\n",
      "2025-08-14 02:43:21.050114: I tensorflow/compiler/mlir/tensorflow/utils/dump_mlir_util.cc:255] disabling MLIR crash reproducer, set env var `MLIR_CRASH_REPRODUCER_DIRECTORY` to enable.\n",
      "2025-08-14 02:43:21.227200: I ./tensorflow/compiler/jit/device_compiler.h:186] Compiled cluster using XLA!  This line is logged at most once for the lifetime of the process.\n"
     ]
    },
    {
     "name": "stdout",
     "output_type": "stream",
     "text": [
      "     89/Unknown - 16s 82ms/step - loss: 0.0331 - mae: 0.1078"
     ]
    },
    {
     "name": "stderr",
     "output_type": "stream",
     "text": [
      "2025-08-14 02:43:29.408596: I tensorflow/core/framework/local_rendezvous.cc:405] Local rendezvous recv item cancelled. Key hash: 9282332767028851603\n",
      "2025-08-14 02:43:29.408668: I tensorflow/core/framework/local_rendezvous.cc:405] Local rendezvous recv item cancelled. Key hash: 5777152374390979715\n",
      "2025-08-14 02:43:29.408686: I tensorflow/core/framework/local_rendezvous.cc:405] Local rendezvous recv item cancelled. Key hash: 1279003647392523329\n",
      "2025-08-14 02:43:29.408700: I tensorflow/core/framework/local_rendezvous.cc:405] Local rendezvous recv item cancelled. Key hash: 929435180854678417\n",
      "2025-08-14 02:43:29.408713: I tensorflow/core/framework/local_rendezvous.cc:405] Local rendezvous recv item cancelled. Key hash: 18354327581348612095\n",
      "2025-08-14 02:43:29.408726: I tensorflow/core/framework/local_rendezvous.cc:405] Local rendezvous recv item cancelled. Key hash: 14377314227916730226\n",
      "2025-08-14 02:43:29.408736: I tensorflow/core/framework/local_rendezvous.cc:405] Local rendezvous recv item cancelled. Key hash: 2668274912238410104\n",
      "2025-08-14 02:43:29.408748: I tensorflow/core/framework/local_rendezvous.cc:405] Local rendezvous recv item cancelled. Key hash: 540789276353263004\n",
      "2025-08-14 02:43:29.408783: I tensorflow/core/framework/local_rendezvous.cc:405] Local rendezvous recv item cancelled. Key hash: 11709416740944818018\n"
     ]
    },
    {
     "name": "stdout",
     "output_type": "stream",
     "text": [
      "\n",
      "Epoch 1: val_loss improved from inf to 0.03013, saving model to best_sequence_model_v1.h5\n"
     ]
    },
    {
     "name": "stderr",
     "output_type": "stream",
     "text": [
      "2025-08-14 02:43:33.134917: I tensorflow/core/framework/local_rendezvous.cc:405] Local rendezvous recv item cancelled. Key hash: 11452518322525567211\n",
      "2025-08-14 02:43:33.134999: I tensorflow/core/framework/local_rendezvous.cc:405] Local rendezvous recv item cancelled. Key hash: 1174677914976119685\n",
      "2025-08-14 02:43:33.135016: I tensorflow/core/framework/local_rendezvous.cc:405] Local rendezvous recv item cancelled. Key hash: 10112292829408578471\n",
      "2025-08-14 02:43:33.135029: I tensorflow/core/framework/local_rendezvous.cc:405] Local rendezvous recv item cancelled. Key hash: 1337042911274949533\n",
      "2025-08-14 02:43:33.135041: I tensorflow/core/framework/local_rendezvous.cc:405] Local rendezvous recv item cancelled. Key hash: 11354643490114832255\n",
      "2025-08-14 02:43:33.135057: I tensorflow/core/framework/local_rendezvous.cc:405] Local rendezvous recv item cancelled. Key hash: 6253066177620592900\n",
      "2025-08-14 02:43:33.135070: I tensorflow/core/framework/local_rendezvous.cc:405] Local rendezvous recv item cancelled. Key hash: 12091758061904019768\n",
      "2025-08-14 02:43:33.135081: I tensorflow/core/framework/local_rendezvous.cc:405] Local rendezvous recv item cancelled. Key hash: 2192543856568314360\n",
      "2025-08-14 02:43:33.135110: I tensorflow/core/framework/local_rendezvous.cc:405] Local rendezvous recv item cancelled. Key hash: 7537019486442585758\n",
      "/environment/miniconda3/lib/python3.10/site-packages/keras/src/engine/training.py:3000: UserWarning: You are saving your model as an HDF5 file via `model.save()`. This file format is considered legacy. We recommend using instead the native Keras format, e.g. `model.save('my_model.keras')`.\n",
      "  saving_api.save_model(\n"
     ]
    },
    {
     "name": "stdout",
     "output_type": "stream",
     "text": [
      "90/90 [==============================] - 20s 127ms/step - loss: 0.0332 - mae: 0.1077 - val_loss: 0.0301 - val_mae: 0.0823 - lr: 0.0010\n",
      "[Callback] sim_weight updated to: 0.0067\n",
      "Epoch 2/30\n",
      "90/90 [==============================] - ETA: 0s - loss: 0.0296 - mae: 0.0935\n",
      "Epoch 2: val_loss improved from 0.03013 to 0.02865, saving model to best_sequence_model_v1.h5\n"
     ]
    },
    {
     "name": "stderr",
     "output_type": "stream",
     "text": [
      "/environment/miniconda3/lib/python3.10/site-packages/keras/src/engine/training.py:3000: UserWarning: You are saving your model as an HDF5 file via `model.save()`. This file format is considered legacy. We recommend using instead the native Keras format, e.g. `model.save('my_model.keras')`.\n",
      "  saving_api.save_model(\n"
     ]
    },
    {
     "name": "stdout",
     "output_type": "stream",
     "text": [
      "90/90 [==============================] - 10s 102ms/step - loss: 0.0296 - mae: 0.0935 - val_loss: 0.0286 - val_mae: 0.1398 - lr: 0.0010\n",
      "[Callback] sim_weight updated to: 0.0133\n",
      "Epoch 3/30\n",
      "90/90 [==============================] - ETA: 0s - loss: 0.0281 - mae: 0.0967\n",
      "Epoch 3: val_loss improved from 0.02865 to 0.02685, saving model to best_sequence_model_v1.h5\n"
     ]
    },
    {
     "name": "stderr",
     "output_type": "stream",
     "text": [
      "/environment/miniconda3/lib/python3.10/site-packages/keras/src/engine/training.py:3000: UserWarning: You are saving your model as an HDF5 file via `model.save()`. This file format is considered legacy. We recommend using instead the native Keras format, e.g. `model.save('my_model.keras')`.\n",
      "  saving_api.save_model(\n"
     ]
    },
    {
     "name": "stdout",
     "output_type": "stream",
     "text": [
      "90/90 [==============================] - 10s 102ms/step - loss: 0.0281 - mae: 0.0967 - val_loss: 0.0269 - val_mae: 0.0847 - lr: 0.0010\n",
      "[Callback] sim_weight updated to: 0.0200\n",
      "Epoch 4/30\n",
      "89/90 [============================>.] - ETA: 0s - loss: 0.0271 - mae: 0.0974\n",
      "Epoch 4: val_loss improved from 0.02685 to 0.02315, saving model to best_sequence_model_v1.h5\n"
     ]
    },
    {
     "name": "stderr",
     "output_type": "stream",
     "text": [
      "/environment/miniconda3/lib/python3.10/site-packages/keras/src/engine/training.py:3000: UserWarning: You are saving your model as an HDF5 file via `model.save()`. This file format is considered legacy. We recommend using instead the native Keras format, e.g. `model.save('my_model.keras')`.\n",
      "  saving_api.save_model(\n"
     ]
    },
    {
     "name": "stdout",
     "output_type": "stream",
     "text": [
      "90/90 [==============================] - 10s 103ms/step - loss: 0.0270 - mae: 0.0969 - val_loss: 0.0231 - val_mae: 0.0856 - lr: 0.0010\n",
      "[Callback] sim_weight updated to: 0.0267\n",
      "Epoch 5/30\n",
      "90/90 [==============================] - ETA: 0s - loss: 0.0254 - mae: 0.0950\n",
      "Epoch 5: val_loss did not improve from 0.02315\n",
      "90/90 [==============================] - 9s 100ms/step - loss: 0.0254 - mae: 0.0950 - val_loss: 0.0252 - val_mae: 0.0800 - lr: 0.0010\n",
      "[Callback] sim_weight updated to: 0.0333\n",
      "Epoch 6/30\n",
      "90/90 [==============================] - ETA: 0s - loss: 0.0226 - mae: 0.0837\n",
      "Epoch 6: val_loss improved from 0.02315 to 0.02269, saving model to best_sequence_model_v1.h5\n"
     ]
    },
    {
     "name": "stderr",
     "output_type": "stream",
     "text": [
      "/environment/miniconda3/lib/python3.10/site-packages/keras/src/engine/training.py:3000: UserWarning: You are saving your model as an HDF5 file via `model.save()`. This file format is considered legacy. We recommend using instead the native Keras format, e.g. `model.save('my_model.keras')`.\n",
      "  saving_api.save_model(\n"
     ]
    },
    {
     "name": "stdout",
     "output_type": "stream",
     "text": [
      "90/90 [==============================] - 10s 106ms/step - loss: 0.0226 - mae: 0.0837 - val_loss: 0.0227 - val_mae: 0.1040 - lr: 0.0010\n",
      "[Callback] sim_weight updated to: 0.0400\n",
      "Epoch 7/30\n",
      "90/90 [==============================] - ETA: 0s - loss: 0.0219 - mae: 0.0812\n",
      "Epoch 7: val_loss improved from 0.02269 to 0.02044, saving model to best_sequence_model_v1.h5\n",
      "90/90 [==============================] - 10s 104ms/step - loss: 0.0219 - mae: 0.0812 - val_loss: 0.0204 - val_mae: 0.0567 - lr: 0.0010\n",
      "[Callback] sim_weight updated to: 0.0467\n",
      "Epoch 8/30\n"
     ]
    },
    {
     "name": "stderr",
     "output_type": "stream",
     "text": [
      "/environment/miniconda3/lib/python3.10/site-packages/keras/src/engine/training.py:3000: UserWarning: You are saving your model as an HDF5 file via `model.save()`. This file format is considered legacy. We recommend using instead the native Keras format, e.g. `model.save('my_model.keras')`.\n",
      "  saving_api.save_model(\n"
     ]
    },
    {
     "name": "stdout",
     "output_type": "stream",
     "text": [
      "90/90 [==============================] - ETA: 0s - loss: 0.0255 - mae: 0.0849\n",
      "Epoch 8: val_loss did not improve from 0.02044\n",
      "90/90 [==============================] - 10s 110ms/step - loss: 0.0255 - mae: 0.0849 - val_loss: 0.0282 - val_mae: 0.0708 - lr: 0.0010\n",
      "[Callback] sim_weight updated to: 0.0533\n",
      "Epoch 9/30\n",
      "90/90 [==============================] - ETA: 0s - loss: 0.0223 - mae: 0.0832\n",
      "Epoch 9: val_loss did not improve from 0.02044\n",
      "90/90 [==============================] - 10s 101ms/step - loss: 0.0223 - mae: 0.0832 - val_loss: 0.0222 - val_mae: 0.0442 - lr: 0.0010\n",
      "[Callback] sim_weight updated to: 0.0600\n",
      "Epoch 10/30\n",
      "90/90 [==============================] - ETA: 0s - loss: 0.0230 - mae: 0.0799\n",
      "Epoch 10: val_loss did not improve from 0.02044\n",
      "\n",
      "Epoch 10: ReduceLROnPlateau reducing learning rate to 0.0005000000237487257.\n",
      "90/90 [==============================] - 10s 101ms/step - loss: 0.0230 - mae: 0.0799 - val_loss: 0.0218 - val_mae: 0.0758 - lr: 0.0010\n",
      "[Callback] sim_weight updated to: 0.0667\n",
      "Epoch 11/30\n",
      "90/90 [==============================] - ETA: 0s - loss: 0.0199 - mae: 0.0677\n",
      "Epoch 11: val_loss did not improve from 0.02044\n",
      "90/90 [==============================] - 9s 99ms/step - loss: 0.0199 - mae: 0.0677 - val_loss: 0.0238 - val_mae: 0.1129 - lr: 5.0000e-04\n",
      "[Callback] sim_weight updated to: 0.0733\n",
      "Epoch 12/30\n",
      "90/90 [==============================] - ETA: 0s - loss: 0.0191 - mae: 0.0658\n",
      "Epoch 12: val_loss improved from 0.02044 to 0.02026, saving model to best_sequence_model_v1.h5\n",
      "90/90 [==============================] - 9s 100ms/step - loss: 0.0191 - mae: 0.0658 - val_loss: 0.0203 - val_mae: 0.0612 - lr: 5.0000e-04\n",
      "[Callback] sim_weight updated to: 0.0800\n",
      "Epoch 13/30\n"
     ]
    },
    {
     "name": "stderr",
     "output_type": "stream",
     "text": [
      "/environment/miniconda3/lib/python3.10/site-packages/keras/src/engine/training.py:3000: UserWarning: You are saving your model as an HDF5 file via `model.save()`. This file format is considered legacy. We recommend using instead the native Keras format, e.g. `model.save('my_model.keras')`.\n",
      "  saving_api.save_model(\n"
     ]
    },
    {
     "name": "stdout",
     "output_type": "stream",
     "text": [
      "90/90 [==============================] - ETA: 0s - loss: 0.0180 - mae: 0.0607\n",
      "Epoch 13: val_loss improved from 0.02026 to 0.01839, saving model to best_sequence_model_v1.h5\n"
     ]
    },
    {
     "name": "stderr",
     "output_type": "stream",
     "text": [
      "/environment/miniconda3/lib/python3.10/site-packages/keras/src/engine/training.py:3000: UserWarning: You are saving your model as an HDF5 file via `model.save()`. This file format is considered legacy. We recommend using instead the native Keras format, e.g. `model.save('my_model.keras')`.\n",
      "  saving_api.save_model(\n"
     ]
    },
    {
     "name": "stdout",
     "output_type": "stream",
     "text": [
      "90/90 [==============================] - 9s 99ms/step - loss: 0.0180 - mae: 0.0607 - val_loss: 0.0184 - val_mae: 0.0612 - lr: 5.0000e-04\n",
      "[Callback] sim_weight updated to: 0.0867\n",
      "Epoch 14/30\n",
      "90/90 [==============================] - ETA: 0s - loss: 0.0173 - mae: 0.0578\n",
      "Epoch 14: val_loss did not improve from 0.01839\n",
      "90/90 [==============================] - 10s 103ms/step - loss: 0.0173 - mae: 0.0578 - val_loss: 0.0185 - val_mae: 0.0619 - lr: 5.0000e-04\n",
      "[Callback] sim_weight updated to: 0.0933\n",
      "Epoch 15/30\n",
      "90/90 [==============================] - ETA: 0s - loss: 0.0168 - mae: 0.0577\n",
      "Epoch 15: val_loss improved from 0.01839 to 0.01796, saving model to best_sequence_model_v1.h5\n",
      "90/90 [==============================] - 10s 101ms/step - loss: 0.0168 - mae: 0.0577 - val_loss: 0.0180 - val_mae: 0.0487 - lr: 5.0000e-04\n"
     ]
    },
    {
     "name": "stderr",
     "output_type": "stream",
     "text": [
      "/environment/miniconda3/lib/python3.10/site-packages/keras/src/engine/training.py:3000: UserWarning: You are saving your model as an HDF5 file via `model.save()`. This file format is considered legacy. We recommend using instead the native Keras format, e.g. `model.save('my_model.keras')`.\n",
      "  saving_api.save_model(\n"
     ]
    },
    {
     "name": "stdout",
     "output_type": "stream",
     "text": [
      "[Callback] sim_weight updated to: 0.1000\n",
      "Epoch 16/30\n",
      "90/90 [==============================] - ETA: 0s - loss: 0.0168 - mae: 0.0591\n",
      "Epoch 16: val_loss improved from 0.01796 to 0.01715, saving model to best_sequence_model_v1.h5\n",
      "90/90 [==============================] - 10s 103ms/step - loss: 0.0168 - mae: 0.0591 - val_loss: 0.0171 - val_mae: 0.0553 - lr: 5.0000e-04\n",
      "[Callback] sim_weight updated to: 0.1067\n",
      "Epoch 17/30\n"
     ]
    },
    {
     "name": "stderr",
     "output_type": "stream",
     "text": [
      "/environment/miniconda3/lib/python3.10/site-packages/keras/src/engine/training.py:3000: UserWarning: You are saving your model as an HDF5 file via `model.save()`. This file format is considered legacy. We recommend using instead the native Keras format, e.g. `model.save('my_model.keras')`.\n",
      "  saving_api.save_model(\n"
     ]
    },
    {
     "name": "stdout",
     "output_type": "stream",
     "text": [
      "90/90 [==============================] - ETA: 0s - loss: 0.0166 - mae: 0.0574\n",
      "Epoch 17: val_loss did not improve from 0.01715\n",
      "90/90 [==============================] - 10s 103ms/step - loss: 0.0166 - mae: 0.0574 - val_loss: 0.0180 - val_mae: 0.0692 - lr: 5.0000e-04\n",
      "[Callback] sim_weight updated to: 0.1133\n",
      "Epoch 18/30\n",
      "90/90 [==============================] - ETA: 0s - loss: 0.0168 - mae: 0.0596\n",
      "Epoch 18: val_loss did not improve from 0.01715\n",
      "90/90 [==============================] - 10s 102ms/step - loss: 0.0168 - mae: 0.0596 - val_loss: 0.0199 - val_mae: 0.0790 - lr: 5.0000e-04\n",
      "[Callback] sim_weight updated to: 0.1200\n",
      "Epoch 19/30\n",
      "90/90 [==============================] - ETA: 0s - loss: 0.0166 - mae: 0.0590\n",
      "Epoch 19: val_loss did not improve from 0.01715\n",
      "\n",
      "Epoch 19: ReduceLROnPlateau reducing learning rate to 0.0002500000118743628.\n",
      "90/90 [==============================] - 9s 96ms/step - loss: 0.0166 - mae: 0.0590 - val_loss: 0.0174 - val_mae: 0.0478 - lr: 5.0000e-04\n",
      "[Callback] sim_weight updated to: 0.1267\n",
      "Epoch 20/30\n",
      "90/90 [==============================] - ETA: 0s - loss: 0.0156 - mae: 0.0522\n",
      "Epoch 20: val_loss did not improve from 0.01715\n",
      "90/90 [==============================] - 10s 101ms/step - loss: 0.0156 - mae: 0.0522 - val_loss: 0.0175 - val_mae: 0.0611 - lr: 2.5000e-04\n",
      "[Callback] sim_weight updated to: 0.1333\n",
      "Epoch 21/30\n",
      "90/90 [==============================] - ETA: 0s - loss: 0.0157 - mae: 0.0528Restoring model weights from the end of the best epoch: 16.\n",
      "\n",
      "Epoch 21: val_loss did not improve from 0.01715\n",
      "90/90 [==============================] - 9s 96ms/step - loss: 0.0157 - mae: 0.0528 - val_loss: 0.0181 - val_mae: 0.0711 - lr: 2.5000e-04\n",
      "Epoch 21: early stopping\n",
      "[INFO] Best model saved to: best_sequence_model_v1.h5\n"
     ]
    }
   ],
   "source": [
    "from sequence_trainer_tf import train_sequence_model\n",
    "model, val_files = train_sequence_model(\n",
    "    feature_dir=\"/home/featurize/data/features_segmodel\",\n",
    "    input_shape=(115, 6144),\n",
    "    batch_size=16,\n",
    "    epochs=30,\n",
    "    model_save_path=\"best_sequence_model_v1.h5\"\n",
    ")"
   ]
  },
  {
   "cell_type": "code",
   "execution_count": 2,
   "id": "d5c82615-deca-45d5-a72e-2b0b3d5659c6",
   "metadata": {},
   "outputs": [
    {
     "name": "stdout",
     "output_type": "stream",
     "text": [
      "/home/featurize/data/features_segmodel/a94b5a1e-a67f-45b0-9a51-8a7a0ca4d112/sweep_1/features.npy\n"
     ]
    }
   ],
   "source": [
    "import random\n",
    "from evaluate_prediction_tf import evaluate_and_visualize_predictions\n",
    "\n",
    "print(random.choice(val_files))"
   ]
  },
  {
   "cell_type": "code",
   "execution_count": 3,
   "id": "bb851cf1-1f47-4172-87f1-26dac1ae73fb",
   "metadata": {},
   "outputs": [
    {
     "name": "stdout",
     "output_type": "stream",
     "text": [
      "1/1 [==============================] - 1s 1s/step\n",
      "Prediction std: 0.1800\n",
      "Detected 2 relative peaks\n",
      "Predicted key frames: [46, 47, 45]\n",
      "Scores: [0.6492869, 0.6477396, 0.6392003]\n"
     ]
    },
    {
     "data": {
      "image/png": "[encoded data removed]",
      "text/plain": [
       "<Figure size 1000x400 with 1 Axes>"
      ]
     },
     "metadata": {},
     "output_type": "display_data"
    }
   ],
   "source": [
    "evaluate_and_visualize_predictions(\n",
    "    model_path=\"best_sequence_model_v1.h5\",\n",
    "    npy_file=\"/home/featurize/data/features_segmodel/ced55401-e5ba-4da3-b24f-57b711f604bf/sweep_2/features.npy\",\n",
    "    smooth_method='gaussian'\n",
    ")"
   ]
  },
  {
   "cell_type": "code",
   "execution_count": 4,
   "id": "1b1f9443-f301-41e4-b406-a17ed5c7dd91",
   "metadata": {},
   "outputs": [
    {
     "name": "stdout",
     "output_type": "stream",
     "text": [
      "\n",
      "=== Key Frame Hit Rate Evaluation ===\n",
      "Valid Files Evaluated : 109\n",
      "Threshold             : score ≥ 0.7\n",
      "Margin Excluded       : 10 frames\n",
      "Match Tolerance       : ±2 frames\n",
      "Total Predicted Frames: 393\n",
      "Total Hits (GT ≥ 0.5) : 335\n",
      "Overall Hit Ratio     : 0.8524  (micro, threshold-based)\n",
      "Avg Hit Ratio/File    : 0.3805 (macro, threshold-based)\n",
      "Mean Recall@K         : 0.7387  (macro, K=#GT, tolerance-aware)\n",
      "Mean Hit@1            : 0.7500  (macro, tolerance-aware)\n",
      "Visualizations saved to: proof_images\n"
     ]
    }
   ],
   "source": [
    "from evaluate_hit_rate_1 import evaluate_keyframe_hit_rate\n",
    "# evaluate_keyframe_hit_rate(\n",
    "#     \"best_sequence_model_v1.h5\", \n",
    "#     val_files, \n",
    "#     score_threshold=0.3\n",
    "# )\n",
    "\n",
    "evaluate_keyframe_hit_rate(\n",
    "    model_path=\"best_sequence_model_v1.h5\",\n",
    "    val_feature_files=val_files,\n",
    "    score_threshold=0.7,\n",
    "    smooth_method='gaussian',\n",
    "    exclude_margin=10,\n",
    "    save_dir=\"proof_images\",  # 保存证明效果的图\n",
    "    max_visualize=6\n",
    ")\n"
   ]
  },
  {
   "cell_type": "code",
   "execution_count": 5,
   "id": "c1853b9a-8afb-46af-9332-9513d8485bc4",
   "metadata": {},
   "outputs": [
    {
     "name": "stdout",
     "output_type": "stream",
     "text": [
      "\n",
      "=== Keyframe Position Bias Evaluation (Batch) ===\n",
      "Files evaluated     : 109\n",
      "Mean abs error      : 6.94 frames\n",
      "Median abs error    : 6.65 frames\n",
      "95% abs error ≤     : 9.77 frames\n",
      "Mean bias direction : -0.37 frames (pos=late, neg=early)\n",
      "Recall              : 71.56%\n",
      "Precision           : 71.56%\n",
      "\n",
      "Summary: {'n_files': 109, 'mean_abs_err_frames': 6.9353533464374415, 'median_abs_err_frames': 6.651376146788991, 'p95_abs_err_frames': 9.766055045871557, 'bias_frames': -0.37304667192393415, 'recall': 0.7155551436783724, 'precision': 0.7155551436783724}\n"
     ]
    }
   ],
   "source": [
    "from position_bias_batch_2 import position_bias_batch\n",
    "\n",
    "summary = position_bias_batch(\n",
    "    model_path=\"best_sequence_model_v1.h5\",\n",
    "    val_feature_files=val_files,\n",
    "    exclude_margin=10,\n",
    "    selection='topk',       # 或 'threshold'\n",
    "    score_threshold=0.7,\n",
    "    tolerance=2,\n",
    "    smooth_method='gaussian'\n",
    ")\n",
    "\n",
    "print(\"\\nSummary:\", summary)\n"
   ]
  },
  {
   "cell_type": "code",
   "execution_count": null,
   "id": "2443e9e3-cc88-4b3d-ad3c-fa2fb2f53013",
   "metadata": {},
   "outputs": [],
   "source": []
  },
  {
   "cell_type": "code",
   "execution_count": null,
   "id": "4ac9cd09-dd12-4273-a36c-ef838bc3fb6e",
   "metadata": {},
   "outputs": [],
   "source": []
  },
  {
   "cell_type": "code",
   "execution_count": 6,
   "id": "69677958-074a-41a1-96ce-bb315d4a4938",
   "metadata": {},
   "outputs": [
    {
     "name": "stdout",
     "output_type": "stream",
     "text": [
      "=== Frame-Level Evaluation ===\n",
      "Samples evaluated: 360\n",
      "Excluded margin: 10 frames\n",
      "ROC-AUC   : 0.9270\n",
      "mAP       : 0.6475\n",
      "Precision : 0.7576\n",
      "Recall    : 0.2934\n",
      "F1-score  : 0.4230\n"
     ]
    },
    {
     "data": {
      "text/plain": [
       "{'ROC-AUC': 0.926958911732676,\n",
       " 'mAP': 0.6474610927083686,\n",
       " 'Precision': 0.7576374745417516,\n",
       " 'Recall': 0.29337539432176657,\n",
       " 'F1-score': 0.42296759522455946}"
      ]
     },
     "execution_count": 6,
     "metadata": {},
     "output_type": "execute_result"
    }
   ],
   "source": [
    "from frame_level_metrics import compute_frame_level_metrics\n",
    "from glob import glob\n",
    "\n",
    "compute_frame_level_metrics(\n",
    "    model_path=\"best_sequence_model_v1.h5\",\n",
    "    feature_files=val_files,\n",
    "    margin_exclude=10,\n",
    "    threshold=0.7\n",
    ")"
   ]
  },
  {
   "cell_type": "code",
   "execution_count": 7,
   "id": "bbd5842c-c080-4bb6-bb95-09e30dfe9e34",
   "metadata": {},
   "outputs": [
    {
     "name": "stdout",
     "output_type": "stream",
     "text": [
      "=== Label Distribution Across All Files ===\n",
      "Label 1.0 (best):     376\n",
      "Label 0.5 (second):   931\n",
      "Label 0.0 (non-key):  40093\n",
      "Total frames:         41400\n"
     ]
    },
    {
     "data": {
      "image/png": "[encoded data removed]",
      "text/plain": [
       "<Figure size 600x400 with 1 Axes>"
      ]
     },
     "metadata": {},
     "output_type": "display_data"
    },
    {
     "data": {
      "text/plain": [
       "{'label_1.0': 376, 'label_0.5': 931, 'label_0.0': 40093, 'total_frames': 41400}"
      ]
     },
     "execution_count": 7,
     "metadata": {},
     "output_type": "execute_result"
    }
   ],
   "source": [
    "import numpy as np\n",
    "import matplotlib.pyplot as plt\n",
    "\n",
    "def plot_label_distribution(val_feature_files):\n",
    "    total_1 = 0\n",
    "    total_05 = 0\n",
    "    total_0 = 0\n",
    "    total_frames = 0\n",
    "\n",
    "    for path in val_feature_files:\n",
    "        data = np.load(path, allow_pickle=True).item()\n",
    "        labels = data[\"labels\"]\n",
    "\n",
    "        total_1 += np.sum(labels == 1.0)\n",
    "        total_05 += np.sum(labels == 0.5)\n",
    "        total_0 += np.sum(labels == 0.0)\n",
    "        total_frames += len(labels)\n",
    "\n",
    "    # 打印汇总\n",
    "    print(\"=== Label Distribution Across All Files ===\")\n",
    "    print(f\"Label 1.0 (best):     {total_1}\")\n",
    "    print(f\"Label 0.5 (second):   {total_05}\")\n",
    "    print(f\"Label 0.0 (non-key):  {total_0}\")\n",
    "    print(f\"Total frames:         {total_frames}\")\n",
    "\n",
    "    # 绘图\n",
    "    labels = ['1.0 (best)', '0.5 (second best)', '0.0 (non-key)']\n",
    "    counts = [total_1, total_05, total_0]\n",
    "\n",
    "    plt.figure(figsize=(6, 4))\n",
    "    plt.bar(labels, counts)\n",
    "    plt.title(\"Label Count Distribution (All Validation Files)\")\n",
    "    plt.ylabel(\"Frame Count\")\n",
    "    plt.grid(axis='y', linestyle='--', alpha=0.5)\n",
    "    plt.tight_layout()\n",
    "    plt.show()\n",
    "\n",
    "    return {\n",
    "        \"label_1.0\": total_1,\n",
    "        \"label_0.5\": total_05,\n",
    "        \"label_0.0\": total_0,\n",
    "        \"total_frames\": total_frames\n",
    "    }\n",
    "\n",
    "\n",
    "plot_label_distribution(val_files)\n"
   ]
  },
  {
   "cell_type": "code",
   "execution_count": null,
   "id": "ceb3b364-ef86-4c35-9879-1d2661555698",
   "metadata": {},
   "outputs": [],
   "source": []
  }
 ],
 "metadata": {
  "kernelspec": {
   "display_name": "Python 3 (ipykernel)",
   "language": "python",
   "name": "python3"
  },
  "language_info": {
   "codemirror_mode": {
    "name": "ipython",
    "version": 3
   },
   "file_extension": ".py",
   "mimetype": "text/x-python",
   "name": "python",
   "nbconvert_exporter": "python",
   "pygments_lexer": "ipython3",
   "version": "3.10.12"
  }
 },
 "nbformat": 4,
 "nbformat_minor": 5
}
